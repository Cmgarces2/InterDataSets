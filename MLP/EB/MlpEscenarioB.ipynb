{
 "cells": [
  {
   "cell_type": "code",
   "execution_count": 1,
   "id": "7ae01d1a",
   "metadata": {},
   "outputs": [],
   "source": [
    "import pandas as pd\n",
    "import numpy as np\n",
    "import matplotlib.pyplot as plt\n",
    "import tensorflow as tf\n",
    "from sklearn.preprocessing import MinMaxScaler\n",
    "from sklearn.model_selection import train_test_split\n",
    "from sklearn.metrics import accuracy_score, precision_score, f1_score\n",
    "from tensorflow.keras.layers import Input, Dense\n",
    "from tensorflow.keras.models import Model"
   ]
  },
  {
   "cell_type": "code",
   "execution_count": 2,
   "id": "bf96e4a1",
   "metadata": {},
   "outputs": [],
   "source": [
    "# Load data\n",
    "url = 'https://raw.githubusercontent.com/Cmgarces2/InterDataSets/main/EscenarioB/TimeBasedFeatures-10s-Layer2.csv'\n",
    "df = pd.read_csv(url, low_memory=False)"
   ]
  },
  {
   "cell_type": "code",
   "execution_count": 3,
   "id": "d45b4983",
   "metadata": {},
   "outputs": [],
   "source": [
    "# Normalize the data\n",
    "scaler = MinMaxScaler()\n",
    "data_to_process = df.iloc[:, 4:-1]\n",
    "x_normalized = pd.DataFrame(scaler.fit_transform(data_to_process), columns=data_to_process.columns)\n",
    "\n",
    "# Split into train and test sets"
   ]
  },
  {
   "cell_type": "code",
   "execution_count": 4,
   "id": "9c4e1f88",
   "metadata": {},
   "outputs": [],
   "source": [
    "# Split into train and test sets\n",
    "y = df['label']\n",
    "label_map = {'AUDIO': 0, 'BROWSING': 1, 'CHAT': 2, 'FILE-TRANSFER': 3, 'MAIL': 4, 'P2P': 5, 'VIDEO': 6, 'VOIP': 7}\n",
    "y_normalized = y.apply(lambda x: label_map[x] if x in label_map else -1)\n",
    "x_train, x_test, y_train, y_test = train_test_split(x_normalized, y_normalized, test_size=0.3, random_state=0)\n"
   ]
  },
  {
   "cell_type": "code",
   "execution_count": 5,
   "id": "f23e54cf",
   "metadata": {},
   "outputs": [],
   "source": [
    "# Define the MLP model\n",
    "input_layer = Input(shape=(x_train.shape[1],))\n",
    "hidden_layer = Dense(64, activation='relu')(input_layer)\n",
    "hidden_layer = Dense(32, activation='relu')(hidden_layer)\n",
    "hidden_layer = Dense(16, activation='relu')(hidden_layer)\n",
    "output_layer = Dense(8, activation='softmax')(hidden_layer)\n",
    "\n",
    "mlp = Model(inputs=input_layer, outputs=output_layer)"
   ]
  },
  {
   "cell_type": "code",
   "execution_count": 6,
   "id": "783cf86d",
   "metadata": {},
   "outputs": [
    {
     "name": "stdout",
     "output_type": "stream",
     "text": [
      "Epoch 1/50\n",
      "352/352 [==============================] - 1s 2ms/step - loss: 1.7368 - accuracy: 0.3845 - val_loss: 1.4690 - val_accuracy: 0.4366\n",
      "Epoch 2/50\n",
      "352/352 [==============================] - 0s 949us/step - loss: 1.4433 - accuracy: 0.4464 - val_loss: 1.3885 - val_accuracy: 0.4557\n",
      "Epoch 3/50\n",
      "352/352 [==============================] - 0s 920us/step - loss: 1.3774 - accuracy: 0.4641 - val_loss: 1.3244 - val_accuracy: 0.4884\n",
      "Epoch 4/50\n",
      "352/352 [==============================] - 0s 952us/step - loss: 1.3072 - accuracy: 0.5012 - val_loss: 1.2799 - val_accuracy: 0.5141\n",
      "Epoch 5/50\n",
      "352/352 [==============================] - 0s 920us/step - loss: 1.2403 - accuracy: 0.5250 - val_loss: 1.1759 - val_accuracy: 0.5621\n",
      "Epoch 6/50\n",
      "352/352 [==============================] - 0s 912us/step - loss: 1.1752 - accuracy: 0.5876 - val_loss: 1.1166 - val_accuracy: 0.6392\n",
      "Epoch 7/50\n",
      "352/352 [==============================] - 0s 960us/step - loss: 1.1273 - accuracy: 0.6433 - val_loss: 1.0823 - val_accuracy: 0.6487\n",
      "Epoch 8/50\n",
      "352/352 [==============================] - 0s 938us/step - loss: 1.0905 - accuracy: 0.6563 - val_loss: 1.0629 - val_accuracy: 0.6740\n",
      "Epoch 9/50\n",
      "352/352 [==============================] - 0s 915us/step - loss: 1.0619 - accuracy: 0.6647 - val_loss: 1.0326 - val_accuracy: 0.6773\n",
      "Epoch 10/50\n",
      "352/352 [==============================] - 0s 938us/step - loss: 1.0365 - accuracy: 0.6694 - val_loss: 1.0013 - val_accuracy: 0.6752\n",
      "Epoch 11/50\n",
      "352/352 [==============================] - 0s 903us/step - loss: 1.0144 - accuracy: 0.6703 - val_loss: 1.0002 - val_accuracy: 0.6761\n",
      "Epoch 12/50\n",
      "352/352 [==============================] - 0s 900us/step - loss: 0.9961 - accuracy: 0.6726 - val_loss: 0.9659 - val_accuracy: 0.6756\n",
      "Epoch 13/50\n",
      "352/352 [==============================] - 0s 900us/step - loss: 0.9822 - accuracy: 0.6774 - val_loss: 0.9576 - val_accuracy: 0.6839\n",
      "Epoch 14/50\n",
      "352/352 [==============================] - 0s 900us/step - loss: 0.9660 - accuracy: 0.6799 - val_loss: 0.9540 - val_accuracy: 0.6761\n",
      "Epoch 15/50\n",
      "352/352 [==============================] - 0s 915us/step - loss: 0.9567 - accuracy: 0.6806 - val_loss: 0.9337 - val_accuracy: 0.6806\n",
      "Epoch 16/50\n",
      "352/352 [==============================] - 0s 915us/step - loss: 0.9469 - accuracy: 0.6826 - val_loss: 0.9496 - val_accuracy: 0.6756\n",
      "Epoch 17/50\n",
      "352/352 [==============================] - 0s 912us/step - loss: 0.9400 - accuracy: 0.6831 - val_loss: 0.9470 - val_accuracy: 0.6756\n",
      "Epoch 18/50\n",
      "352/352 [==============================] - 0s 918us/step - loss: 0.9386 - accuracy: 0.6829 - val_loss: 0.9248 - val_accuracy: 0.6835\n",
      "Epoch 19/50\n",
      "352/352 [==============================] - 0s 923us/step - loss: 0.9266 - accuracy: 0.6867 - val_loss: 0.9767 - val_accuracy: 0.6624\n",
      "Epoch 20/50\n",
      "352/352 [==============================] - 0s 926us/step - loss: 0.9227 - accuracy: 0.6861 - val_loss: 0.9055 - val_accuracy: 0.6910\n",
      "Epoch 21/50\n",
      "352/352 [==============================] - 0s 920us/step - loss: 0.9212 - accuracy: 0.6837 - val_loss: 0.9259 - val_accuracy: 0.6848\n",
      "Epoch 22/50\n",
      "352/352 [==============================] - 0s 912us/step - loss: 0.9125 - accuracy: 0.6881 - val_loss: 0.9089 - val_accuracy: 0.6848\n",
      "Epoch 23/50\n",
      "352/352 [==============================] - 0s 912us/step - loss: 0.9045 - accuracy: 0.6893 - val_loss: 0.8891 - val_accuracy: 0.6889\n",
      "Epoch 24/50\n",
      "352/352 [==============================] - 0s 906us/step - loss: 0.9052 - accuracy: 0.6906 - val_loss: 0.8893 - val_accuracy: 0.6848\n",
      "Epoch 25/50\n",
      "352/352 [==============================] - 0s 915us/step - loss: 0.9014 - accuracy: 0.6911 - val_loss: 0.8840 - val_accuracy: 0.6926\n",
      "Epoch 26/50\n",
      "352/352 [==============================] - 0s 920us/step - loss: 0.8939 - accuracy: 0.6913 - val_loss: 0.8827 - val_accuracy: 0.6914\n",
      "Epoch 27/50\n",
      "352/352 [==============================] - 0s 906us/step - loss: 0.8914 - accuracy: 0.6911 - val_loss: 0.8748 - val_accuracy: 0.6910\n",
      "Epoch 28/50\n",
      "352/352 [==============================] - 0s 906us/step - loss: 0.8835 - accuracy: 0.6931 - val_loss: 0.8814 - val_accuracy: 0.6955\n",
      "Epoch 29/50\n",
      "352/352 [==============================] - 0s 912us/step - loss: 0.8812 - accuracy: 0.6959 - val_loss: 0.8816 - val_accuracy: 0.6935\n",
      "Epoch 30/50\n",
      "352/352 [==============================] - 0s 935us/step - loss: 0.8762 - accuracy: 0.7004 - val_loss: 0.8741 - val_accuracy: 0.6980\n",
      "Epoch 31/50\n",
      "352/352 [==============================] - 0s 918us/step - loss: 0.8742 - accuracy: 0.6995 - val_loss: 0.8830 - val_accuracy: 0.6984\n",
      "Epoch 32/50\n",
      "352/352 [==============================] - 0s 915us/step - loss: 0.8725 - accuracy: 0.6972 - val_loss: 0.8688 - val_accuracy: 0.6959\n",
      "Epoch 33/50\n",
      "352/352 [==============================] - 0s 918us/step - loss: 0.8636 - accuracy: 0.7009 - val_loss: 0.8696 - val_accuracy: 0.7005\n",
      "Epoch 34/50\n",
      "352/352 [==============================] - 0s 918us/step - loss: 0.8662 - accuracy: 0.6991 - val_loss: 0.8640 - val_accuracy: 0.6972\n",
      "Epoch 35/50\n",
      "352/352 [==============================] - 0s 913us/step - loss: 0.8616 - accuracy: 0.7028 - val_loss: 0.8883 - val_accuracy: 0.6939\n",
      "Epoch 36/50\n",
      "352/352 [==============================] - 0s 920us/step - loss: 0.8597 - accuracy: 0.7007 - val_loss: 0.8541 - val_accuracy: 0.7055\n",
      "Epoch 37/50\n",
      "352/352 [==============================] - 0s 1ms/step - loss: 0.8499 - accuracy: 0.7053 - val_loss: 0.8608 - val_accuracy: 0.6993\n",
      "Epoch 38/50\n",
      "352/352 [==============================] - 0s 912us/step - loss: 0.8499 - accuracy: 0.7030 - val_loss: 0.8486 - val_accuracy: 0.7026\n",
      "Epoch 39/50\n",
      "352/352 [==============================] - 0s 900us/step - loss: 0.8419 - accuracy: 0.7075 - val_loss: 0.8462 - val_accuracy: 0.7026\n",
      "Epoch 40/50\n",
      "352/352 [==============================] - 0s 912us/step - loss: 0.8439 - accuracy: 0.7069 - val_loss: 0.8599 - val_accuracy: 0.7013\n",
      "Epoch 41/50\n",
      "352/352 [==============================] - 0s 935us/step - loss: 0.8414 - accuracy: 0.7080 - val_loss: 0.8478 - val_accuracy: 0.7191\n",
      "Epoch 42/50\n",
      "352/352 [==============================] - 0s 929us/step - loss: 0.8357 - accuracy: 0.7130 - val_loss: 0.8476 - val_accuracy: 0.6997\n",
      "Epoch 43/50\n",
      "352/352 [==============================] - 0s 920us/step - loss: 0.8356 - accuracy: 0.7119 - val_loss: 0.8372 - val_accuracy: 0.7046\n",
      "Epoch 44/50\n",
      "352/352 [==============================] - 0s 926us/step - loss: 0.8323 - accuracy: 0.7142 - val_loss: 0.8415 - val_accuracy: 0.7080\n",
      "Epoch 45/50\n",
      "352/352 [==============================] - 0s 946us/step - loss: 0.8268 - accuracy: 0.7121 - val_loss: 0.8458 - val_accuracy: 0.7030\n",
      "Epoch 46/50\n",
      "352/352 [==============================] - 0s 946us/step - loss: 0.8274 - accuracy: 0.7142 - val_loss: 0.8344 - val_accuracy: 0.7088\n",
      "Epoch 47/50\n",
      "352/352 [==============================] - 0s 938us/step - loss: 0.8248 - accuracy: 0.7156 - val_loss: 0.8379 - val_accuracy: 0.7038\n",
      "Epoch 48/50\n",
      "352/352 [==============================] - 0s 938us/step - loss: 0.8206 - accuracy: 0.7181 - val_loss: 0.8339 - val_accuracy: 0.7088\n",
      "Epoch 49/50\n",
      "352/352 [==============================] - 0s 900us/step - loss: 0.8186 - accuracy: 0.7121 - val_loss: 0.8305 - val_accuracy: 0.7150\n",
      "Epoch 50/50\n",
      "352/352 [==============================] - 0s 906us/step - loss: 0.8126 - accuracy: 0.7151 - val_loss: 0.8559 - val_accuracy: 0.7059\n"
     ]
    }
   ],
   "source": [
    "# Train the MLP model\n",
    "mlp.compile(optimizer='adam', loss='sparse_categorical_crossentropy', metrics=['accuracy'])\n",
    "history = mlp.fit(x_train, y_train, epochs=50, batch_size=16, validation_data=(x_test, y_test))\n"
   ]
  },
  {
   "cell_type": "code",
   "execution_count": 7,
   "id": "4b2d85d9",
   "metadata": {},
   "outputs": [
    {
     "name": "stdout",
     "output_type": "stream",
     "text": [
      "76/76 [==============================] - 0s 533us/step\n"
     ]
    }
   ],
   "source": [
    "# Evaluate the MLP model on the test set\n",
    "y_pred = np.argmax(mlp.predict(x_test), axis=-1)"
   ]
  },
  {
   "cell_type": "code",
   "execution_count": 8,
   "id": "a5d532ec",
   "metadata": {},
   "outputs": [
    {
     "name": "stdout",
     "output_type": "stream",
     "text": [
      "[6 5 5 ... 7 3 6]\n"
     ]
    }
   ],
   "source": [
    "# Print predicted labels\n",
    "print(y_pred)\n"
   ]
  },
  {
   "cell_type": "code",
   "execution_count": 9,
   "id": "6ee76066",
   "metadata": {},
   "outputs": [
    {
     "name": "stdout",
     "output_type": "stream",
     "text": [
      "METRICS FOR THE MODEL\n",
      "Accuracy: 0.7058823529411765\n",
      "Precision: 0.7922854935487884\n",
      "F1-score: 0.5063652207313936\n"
     ]
    }
   ],
   "source": [
    "# Metrics\n",
    "accuracy = accuracy_score(y_test, y_pred)\n",
    "precision = precision_score(y_test, y_pred, average='macro', zero_division=1)\n",
    "f1 = f1_score(y_test, y_pred, average='macro')\n",
    "print('METRICS FOR THE MODEL')\n",
    "print('Accuracy:', accuracy)\n",
    "print('Precision:', precision)\n",
    "print('F1-score:', f1)"
   ]
  },
  {
   "cell_type": "code",
   "execution_count": 10,
   "id": "290d145f",
   "metadata": {},
   "outputs": [
    {
     "data": {
      "image/png": "[encoded data removed]",
      "text/plain": [
       "<Figure size 640x480 with 1 Axes>"
      ]
     },
     "metadata": {},
     "output_type": "display_data"
    }
   ],
   "source": [
    "counts = y.value_counts()\n",
    "plt.bar(counts.index, counts.values)\n",
    "plt.title(\"Distribución de las clases\")\n",
    "plt.show()"
   ]
  },
  {
   "cell_type": "code",
   "execution_count": null,
   "id": "a73f06d7",
   "metadata": {},
   "outputs": [],
   "source": []
  }
 ],
 "metadata": {
  "kernelspec": {
   "display_name": "Python 3 (ipykernel)",
   "language": "python",
   "name": "python3"
  },
  "language_info": {
   "codemirror_mode": {
    "name": "ipython",
    "version": 3
   },
   "file_extension": ".py",
   "mimetype": "text/x-python",
   "name": "python",
   "nbconvert_exporter": "python",
   "pygments_lexer": "ipython3",
   "version": "3.9.13"
  }
 },
 "nbformat": 4,
 "nbformat_minor": 5
}
