{
 "cells": [
  {
   "cell_type": "code",
   "execution_count": 1,
   "metadata": {
    "id": "TA_f96UMgIqK"
   },
   "outputs": [],
   "source": [
    "import pandas as pd\n",
    "import numpy as np\n",
    "import matplotlib.pyplot as plt #Gives us Graphics\n",
    "from sklearn.neural_network import MLPClassifier #Import MLPClassifier\n",
    "from sklearn.metrics import classification_report, accuracy_score, precision_score, f1_score\n",
    "from sklearn.model_selection import train_test_split"
   ]
  },
  {
   "cell_type": "code",
   "execution_count": 2,
   "metadata": {
    "id": "U8p4EAOsgKc9"
   },
   "outputs": [],
   "source": [
    "url = 'https://raw.githubusercontent.com/beespinosa1/Inter/main/Escenario3.csv'\n",
    "df = pd.read_csv(url)"
   ]
  },
  {
   "cell_type": "code",
   "execution_count": 3,
   "metadata": {
    "id": "HzgRwyQWgMO5"
   },
   "outputs": [],
   "source": [
    "names =['srcip', 'sport', 'dstip', 'dsport', 'proto', 'state', 'dur',\n",
    "        'sbytes', 'dbytes', 'sttl', 'dttl', 'sloss', 'dloss', 'service',\n",
    "        'Sload', 'Dload', 'Spkts', 'Dpkts', 'swin', 'dwin', 'stcpb',\n",
    "        'dtcpb', 'smeansz', 'dmeansz', 'trans_depth', 'res_bdy_len',\n",
    "        'Sjit', 'Djit', 'Stime', 'Ltime', 'Sintpkt', 'Dintpkt', 'tcprtt',\n",
    "        'synack', 'ackdat', 'is_sm_ips_ports', 'ct_state_ttl',\n",
    "        'ct_flw_http_mthd', 'is_ftp_login', 'ct_ftp_cmd', 'ct_srv_src',\n",
    "        'ct_srv_dst', 'ct_dst_ltm', 'ct_src_ltm', 'ct_src_dport_ltm',\n",
    "        'ct_dst_sport_ltm', 'ct_dst_src_ltm', 'attack_cat', 'Label']"
   ]
  },
  {
   "cell_type": "code",
   "execution_count": 4,
   "metadata": {
    "id": "tLrMjk5qgNpK"
   },
   "outputs": [],
   "source": [
    "df= pd.read_csv(url, names=names, low_memory=False)\n",
    "dataframe= pd.read_csv(url, names=names, low_memory=False)"
   ]
  },
  {
   "cell_type": "code",
   "execution_count": 5,
   "metadata": {
    "id": "z-Qf5C9egO-8"
   },
   "outputs": [],
   "source": [
    "# Normalise the data\n",
    "def dfNormalize(df):\n",
    "    for feature_name in df.columns:\n",
    "        df.loc[:,feature_name]= pd.to_numeric(df.loc[:,feature_name], errors='coerce').fillna(0)\n",
    "        max_value = df[feature_name].max()\n",
    "        min_value = df[feature_name].min()   \n",
    "        if (max_value - min_value) > 0:\n",
    "            df.loc[:,feature_name] = (df.loc[:,feature_name] - min_value) / (max_value - min_value)\n",
    "        else:\n",
    "            df.loc[:,feature_name] = (df.loc[:,feature_name]- min_value)    \n",
    "    return df"
   ]
  },
  {
   "cell_type": "code",
   "execution_count": 6,
   "metadata": {
    "colab": {
     "base_uri": "https://localhost:8080/"
    },
    "id": "GeKstUDRgRDX",
    "outputId": "1aab2ae3-7f57-41c0-c9c3-a38b45600e60"
   },
   "outputs": [
    {
     "name": "stdout",
     "output_type": "stream",
     "text": [
      "              sport          dur         sbytes        dbytes         sttl  \\\n",
      "count   3500.000000  3500.000000    3500.000000  3.500000e+03  3500.000000   \n",
      "mean   31926.315429     3.111007    3468.078571  2.876112e+04    35.811714   \n",
      "std    19176.226410     7.019469    7187.232820  1.356012e+05    31.764679   \n",
      "min        0.000000     0.000000      46.000000  0.000000e+00     0.000000   \n",
      "25%    15392.000000     0.010383     568.000000  3.200000e+02    31.000000   \n",
      "50%    31459.500000     0.576294    1540.000000  1.644000e+03    31.000000   \n",
      "75%    48528.000000     2.254592    2662.000000  1.016800e+04    31.000000   \n",
      "max    65534.000000    50.004387  115727.000000  1.641360e+06   254.000000   \n",
      "\n",
      "              dttl        sloss        dloss         Sload         Dload  ...  \\\n",
      "count  3500.000000  3500.000000  3500.000000  3.500000e+03  3.500000e+03  ...   \n",
      "mean     34.915714     5.156286    13.966857  1.862092e+06  1.346940e+06  ...   \n",
      "std      37.409203     6.487297    47.821493  3.574078e+07  3.082352e+06  ...   \n",
      "min       0.000000     0.000000     0.000000  0.000000e+00  0.000000e+00  ...   \n",
      "25%      29.000000     1.000000     1.000000  5.806284e+03  8.735622e+03  ...   \n",
      "50%      29.000000     4.000000     4.000000  3.045002e+04  7.640456e+04  ...   \n",
      "75%      29.000000     7.000000    13.000000  5.377532e+05  6.668229e+05  ...   \n",
      "max     252.000000    55.000000   583.000000  1.805333e+09  1.673650e+07  ...   \n",
      "\n",
      "       is_ftp_login   ct_ftp_cmd   ct_srv_src   ct_srv_dst   ct_dst_ltm  \\\n",
      "count   3500.000000  3500.000000  3500.000000  3500.000000  3500.000000   \n",
      "mean       0.006000     0.006000     6.182857     5.879429     5.537143   \n",
      "std        0.077238     0.077238     4.769418     4.503059     4.463826   \n",
      "min        0.000000     0.000000     1.000000     1.000000     1.000000   \n",
      "25%        0.000000     0.000000     2.000000     2.000000     2.000000   \n",
      "50%        0.000000     0.000000     5.000000     5.000000     4.000000   \n",
      "75%        0.000000     0.000000     9.000000     8.250000     8.000000   \n",
      "max        1.000000     1.000000    24.000000    23.000000    25.000000   \n",
      "\n",
      "        ct_src_ltm  ct_src_dport_ltm  ct_dst_sport_ltm  ct_dst_src_ltm  \\\n",
      "count  3500.000000       3500.000000       3500.000000     3500.000000   \n",
      "mean      5.676286          2.883429          1.022857        2.162571   \n",
      "std       4.481017          3.647220          0.175826        1.761136   \n",
      "min       1.000000          1.000000          1.000000        1.000000   \n",
      "25%       2.000000          1.000000          1.000000        1.000000   \n",
      "50%       4.000000          1.000000          1.000000        1.000000   \n",
      "75%       8.000000          3.000000          1.000000        3.000000   \n",
      "max      20.000000         19.000000          4.000000       11.000000   \n",
      "\n",
      "             Label  \n",
      "count  3500.000000  \n",
      "mean      0.034857  \n",
      "std       0.183444  \n",
      "min       0.000000  \n",
      "25%       0.000000  \n",
      "50%       0.000000  \n",
      "75%       0.000000  \n",
      "max       1.000000  \n",
      "\n",
      "[8 rows x 42 columns]\n",
      "['srcip', 'sport', 'dstip', 'dsport', 'proto', 'state', 'dur', 'sbytes', 'dbytes', 'sttl', 'dttl', 'sloss', 'dloss', 'service', 'Sload', 'Dload', 'Spkts', 'Dpkts', 'swin', 'dwin', 'stcpb', 'dtcpb', 'smeansz', 'dmeansz', 'trans_depth', 'res_bdy_len', 'Sjit', 'Djit', 'Stime', 'Ltime', 'Sintpkt', 'Dintpkt', 'tcprtt', 'synack', 'ackdat', 'is_sm_ips_ports', 'ct_state_ttl', 'ct_flw_http_mthd', 'is_ftp_login', 'ct_ftp_cmd', 'ct_srv_src', 'ct_srv_dst', 'ct_dst_ltm', 'ct_src_ltm', 'ct_src_dport_ltm', 'ct_dst_sport_ltm', 'ct_dst_src_ltm', 'attack_cat', 'Label']\n"
     ]
    }
   ],
   "source": [
    "dataframe.shape\n",
    "dataframe = dataframe.reindex(np.random.permutation(dataframe.index)).copy()\n",
    "print(dataframe.describe())\n",
    "print(list(dataframe))"
   ]
  },
  {
   "cell_type": "code",
   "execution_count": 7,
   "metadata": {
    "id": "4kAjr3UYgT6S"
   },
   "outputs": [],
   "source": [
    "keys = dataframe.keys()\n",
    "data_to_process = dataframe[keys[4:len(keys)-1]].copy()"
   ]
  },
  {
   "cell_type": "code",
   "execution_count": 8,
   "metadata": {
    "colab": {
     "base_uri": "https://localhost:8080/"
    },
    "id": "M_cR4gnPgWEg",
    "outputId": "a8971d42-6d1c-4edb-d289-ea1f51da369b"
   },
   "outputs": [
    {
     "name": "stdout",
     "output_type": "stream",
     "text": [
      "        proto   state          dur       sbytes       dbytes         sttl  \\\n",
      "count  3500.0  3500.0  3500.000000  3500.000000  3500.000000  3500.000000   \n",
      "mean      0.0     0.0     0.062215     0.029582     0.017523     0.140991   \n",
      "std       0.0     0.0     0.140377     0.062130     0.082615     0.125058   \n",
      "min       0.0     0.0     0.000000     0.000000     0.000000     0.000000   \n",
      "25%       0.0     0.0     0.000208     0.004512     0.000195     0.122047   \n",
      "50%       0.0     0.0     0.011525     0.012915     0.001002     0.122047   \n",
      "75%       0.0     0.0     0.045088     0.022614     0.006195     0.122047   \n",
      "max       0.0     0.0     1.000000     1.000000     1.000000     1.000000   \n",
      "\n",
      "              dttl        sloss        dloss  service  ...  is_ftp_login  \\\n",
      "count  3500.000000  3500.000000  3500.000000   3500.0  ...   3500.000000   \n",
      "mean      0.138554     0.093751     0.023957      0.0  ...      0.006000   \n",
      "std       0.148449     0.117951     0.082027      0.0  ...      0.077238   \n",
      "min       0.000000     0.000000     0.000000      0.0  ...      0.000000   \n",
      "25%       0.115079     0.018182     0.001715      0.0  ...      0.000000   \n",
      "50%       0.115079     0.072727     0.006861      0.0  ...      0.000000   \n",
      "75%       0.115079     0.127273     0.022298      0.0  ...      0.000000   \n",
      "max       1.000000     1.000000     1.000000      0.0  ...      1.000000   \n",
      "\n",
      "        ct_ftp_cmd   ct_srv_src   ct_srv_dst   ct_dst_ltm   ct_src_ltm  \\\n",
      "count  3500.000000  3500.000000  3500.000000  3500.000000  3500.000000   \n",
      "mean      0.006000     0.225342     0.221792     0.189048     0.246120   \n",
      "std       0.077238     0.207366     0.204685     0.185993     0.235843   \n",
      "min       0.000000     0.000000     0.000000     0.000000     0.000000   \n",
      "25%       0.000000     0.043478     0.045455     0.041667     0.052632   \n",
      "50%       0.000000     0.173913     0.181818     0.125000     0.157895   \n",
      "75%       0.000000     0.347826     0.329545     0.291667     0.368421   \n",
      "max       1.000000     1.000000     1.000000     1.000000     1.000000   \n",
      "\n",
      "       ct_src_dport_ltm  ct_dst_sport_ltm  ct_dst_src_ltm  attack_cat  \n",
      "count       3500.000000       3500.000000     3500.000000      3500.0  \n",
      "mean           0.104635          0.007619        0.116257         0.0  \n",
      "std            0.202623          0.058609        0.176114         0.0  \n",
      "min            0.000000          0.000000        0.000000         0.0  \n",
      "25%            0.000000          0.000000        0.000000         0.0  \n",
      "50%            0.000000          0.000000        0.000000         0.0  \n",
      "75%            0.111111          0.000000        0.200000         0.0  \n",
      "max            1.000000          1.000000        1.000000         0.0  \n",
      "\n",
      "[8 rows x 44 columns]\n"
     ]
    }
   ],
   "source": [
    "x_normalised=dfNormalize(data_to_process)\n",
    "print(x_normalised.describe())"
   ]
  },
  {
   "cell_type": "code",
   "execution_count": 9,
   "metadata": {
    "id": "HvAU-cMlgYE1"
   },
   "outputs": [],
   "source": [
    "# get the train and test data\n",
    "y = dataframe['Label']\n",
    "x_train,x_test,y_train,y_test = train_test_split(x_normalised,\n",
    "                                                 y,\n",
    "                                                 test_size=0.3, # %test\n",
    "                                                 random_state=0)"
   ]
  },
  {
   "cell_type": "code",
   "execution_count": 10,
   "metadata": {
    "colab": {
     "base_uri": "https://localhost:8080/"
    },
    "id": "mZ-b3K-9gdJQ",
    "outputId": "3913c81b-e52d-4ada-d4f3-55b31f4fb7eb"
   },
   "outputs": [
    {
     "data": {
      "text/plain": [
       "((2450, 44), (1050, 44))"
      ]
     },
     "execution_count": 10,
     "metadata": {},
     "output_type": "execute_result"
    }
   ],
   "source": [
    "x_train.shape, x_test.shape"
   ]
  },
  {
   "cell_type": "code",
   "execution_count": 11,
   "metadata": {
    "colab": {
     "base_uri": "https://localhost:8080/"
    },
    "id": "LM4Tx6cigeZE",
    "outputId": "f8208557-0b7b-480c-942d-f7e987393c51"
   },
   "outputs": [
    {
     "data": {
      "text/plain": [
       "MLPClassifier(hidden_layer_sizes=(100, 100, 100), max_iter=300, random_state=0)"
      ]
     },
     "execution_count": 11,
     "metadata": {},
     "output_type": "execute_result"
    }
   ],
   "source": [
    "# Create and train MLP classifier\n",
    "clf = MLPClassifier(hidden_layer_sizes=(100, 100, 100), max_iter=300, random_state=0)\n",
    "clf.fit(x_train, y_train)"
   ]
  },
  {
   "cell_type": "code",
   "execution_count": 12,
   "metadata": {
    "colab": {
     "base_uri": "https://localhost:8080/"
    },
    "id": "MsaAefS9hprb",
    "outputId": "459ecd66-8978-4fb0-aed6-6261c8651632"
   },
   "outputs": [
    {
     "name": "stdout",
     "output_type": "stream",
     "text": [
      "[0 0 0 ... 0 0 0]\n"
     ]
    }
   ],
   "source": [
    "# Predict the labels of the testing data\n",
    "y_pred = clf.predict(x_test)\n",
    "\n",
    "# Print predicted labels\n",
    "print(y_pred)"
   ]
  },
  {
   "cell_type": "code",
   "execution_count": 13,
   "metadata": {
    "colab": {
     "base_uri": "https://localhost:8080/"
    },
    "id": "KEOUIQxcgkka",
    "outputId": "e5320426-0e18-4153-d210-c670be374c75"
   },
   "outputs": [
    {
     "name": "stdout",
     "output_type": "stream",
     "text": [
      "METRICS FOR THE MODEL\n",
      "Accuracy: 0.9980952380952381\n",
      "Precision: 0.9990118577075099\n",
      "F1-score: 0.9866849273377463\n"
     ]
    }
   ],
   "source": [
    "#Metrics\n",
    "accuracy = accuracy_score(y_test, y_pred)\n",
    "precision = precision_score(y_test, y_pred, average='macro')\n",
    "f1 = f1_score(y_test, y_pred, average='macro')\n",
    "print('METRICS FOR THE MODEL')\n",
    "print('Accuracy:', accuracy)\n",
    "print('Precision:', precision)\n",
    "print('F1-score:', f1)"
   ]
  },
  {
   "cell_type": "code",
   "execution_count": null,
   "metadata": {},
   "outputs": [],
   "source": []
  }
 ],
 "metadata": {
  "colab": {
   "provenance": []
  },
  "kernelspec": {
   "display_name": "Python 3 (ipykernel)",
   "language": "python",
   "name": "python3"
  },
  "language_info": {
   "codemirror_mode": {
    "name": "ipython",
    "version": 3
   },
   "file_extension": ".py",
   "mimetype": "text/x-python",
   "name": "python",
   "nbconvert_exporter": "python",
   "pygments_lexer": "ipython3",
   "version": "3.9.13"
  }
 },
 "nbformat": 4,
 "nbformat_minor": 1
}
