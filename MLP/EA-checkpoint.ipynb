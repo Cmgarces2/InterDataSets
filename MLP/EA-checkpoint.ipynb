{
 "cells": [
  {
   "cell_type": "code",
   "execution_count": 6,
   "metadata": {
    "id": "DV65QNsIcdeG"
   },
   "outputs": [],
   "source": [
    "import pandas as pd\n",
    "import numpy as np\n",
    "import matplotlib.pyplot as plt\n",
    "from sklearn.model_selection import train_test_split\n",
    "from sklearn.preprocessing import LabelEncoder\n",
    "from keras.models import Sequential\n",
    "from keras.layers import Dense, Dropout\n",
    "from keras.utils import to_categorical\n",
    "from sklearn.metrics import classification_report, accuracy_score, precision_score, f1_score"
   ]
  },
  {
   "cell_type": "code",
   "execution_count": 7,
   "metadata": {
    "id": "2P3jKH2Kcher"
   },
   "outputs": [],
   "source": [
    "# Load the data\n",
    "url = 'https://raw.githubusercontent.com/Cmgarces2/InterDataSets/main/EscenarioA/SelectedFeatures-10s-TOR-NonTOR.csv'\n",
    "df = pd.read_csv(url, low_memory=False)"
   ]
  },
  {
   "cell_type": "code",
   "execution_count": 8,
   "metadata": {
    "id": "2n09Xdf_clhj"
   },
   "outputs": [],
   "source": [
    "# Normalize the data\n",
    "def dfNormalize(df):\n",
    "    for feature_name in df.columns:\n",
    "        df.loc[:,feature_name]= pd.to_numeric(df.loc[:,feature_name], errors='coerce').fillna(0)\n",
    "        max_value = df[feature_name].max()\n",
    "        min_value = df[feature_name].min()   \n",
    "        if (max_value - min_value) > 0:\n",
    "            df.loc[:,feature_name] = (df.loc[:,feature_name] - min_value) / (max_value - min_value)\n",
    "        else:\n",
    "            df.loc[:,feature_name] = (df.loc[:,feature_name]- min_value)    \n",
    "    return df\n",
    "\n",
    "df = dfNormalize(df)"
   ]
  },
  {
   "cell_type": "code",
   "execution_count": 9,
   "metadata": {
    "id": "jnIIRDrZcncG"
   },
   "outputs": [],
   "source": [
    "# Split the data into train and test sets\n",
    "X = df.iloc[:, :-1]\n",
    "y = df.iloc[:, -1]\n",
    "le = LabelEncoder()\n",
    "y = le.fit_transform(y)\n",
    "y = to_categorical(y)\n",
    "X_train, X_test, y_train, y_test = train_test_split(X, y, test_size=0.3, random_state=0)"
   ]
  },
  {
   "cell_type": "code",
   "execution_count": 10,
   "metadata": {
    "id": "vd0DL8Zfcqf9"
   },
   "outputs": [],
   "source": [
    "# Define the MLP model\n",
    "model = Sequential()\n",
    "model.add(Dense(64, input_shape=(X_train.shape[1],), activation='relu'))\n",
    "model.add(Dropout(0.5))\n",
    "model.add(Dense(128, activation='relu'))\n",
    "model.add(Dropout(0.5))\n",
    "model.add(Dense(y_train.shape[1], activation='softmax'))"
   ]
  },
  {
   "cell_type": "code",
   "execution_count": 11,
   "metadata": {
    "id": "jmtP1Gx6csHL"
   },
   "outputs": [],
   "source": [
    "# Compile the model\n",
    "model.compile(loss='categorical_crossentropy', optimizer='adam', metrics=['accuracy'])"
   ]
  },
  {
   "cell_type": "code",
   "execution_count": 12,
   "metadata": {
    "colab": {
     "base_uri": "https://localhost:8080/"
    },
    "id": "1lpIOrFZcvOE",
    "outputId": "f6a0108f-95ee-46a3-a4b9-1cb0161fa839"
   },
   "outputs": [
    {
     "name": "stdout",
     "output_type": "stream",
     "text": [
      "Epoch 1/50\n",
      "1484/1484 [==============================] - 2s 824us/step - loss: nan - accuracy: 0.0370\n",
      "Epoch 2/50\n",
      "1484/1484 [==============================] - 1s 803us/step - loss: nan - accuracy: 0.0000e+00\n",
      "Epoch 3/50\n",
      "1484/1484 [==============================] - 1s 807us/step - loss: nan - accuracy: 0.0000e+00\n",
      "Epoch 4/50\n",
      "1484/1484 [==============================] - 1s 805us/step - loss: nan - accuracy: 0.0000e+00\n",
      "Epoch 5/50\n",
      "1484/1484 [==============================] - 1s 808us/step - loss: nan - accuracy: 0.0000e+00\n",
      "Epoch 6/50\n",
      "1484/1484 [==============================] - 1s 807us/step - loss: nan - accuracy: 0.0000e+00\n",
      "Epoch 7/50\n",
      "1484/1484 [==============================] - 1s 816us/step - loss: nan - accuracy: 0.0000e+00\n",
      "Epoch 8/50\n",
      "1484/1484 [==============================] - 1s 809us/step - loss: nan - accuracy: 0.0000e+00\n",
      "Epoch 9/50\n",
      "1484/1484 [==============================] - 1s 807us/step - loss: nan - accuracy: 0.0000e+00\n",
      "Epoch 10/50\n",
      "1484/1484 [==============================] - 1s 813us/step - loss: nan - accuracy: 0.0000e+00\n",
      "Epoch 11/50\n",
      "1484/1484 [==============================] - 1s 811us/step - loss: nan - accuracy: 0.0000e+00\n",
      "Epoch 12/50\n",
      "1484/1484 [==============================] - 1s 807us/step - loss: nan - accuracy: 0.0000e+00\n",
      "Epoch 13/50\n",
      "1484/1484 [==============================] - 1s 809us/step - loss: nan - accuracy: 0.0000e+00\n",
      "Epoch 14/50\n",
      "1484/1484 [==============================] - 1s 805us/step - loss: nan - accuracy: 0.0000e+00\n",
      "Epoch 15/50\n",
      "1484/1484 [==============================] - 1s 802us/step - loss: nan - accuracy: 0.0000e+00\n",
      "Epoch 16/50\n",
      "1484/1484 [==============================] - 1s 807us/step - loss: nan - accuracy: 0.0000e+00\n",
      "Epoch 17/50\n",
      "1484/1484 [==============================] - 1s 805us/step - loss: nan - accuracy: 0.0000e+00\n",
      "Epoch 18/50\n",
      "1484/1484 [==============================] - 1s 805us/step - loss: nan - accuracy: 0.0000e+00\n",
      "Epoch 19/50\n",
      "1484/1484 [==============================] - 1s 805us/step - loss: nan - accuracy: 0.0000e+00\n",
      "Epoch 20/50\n",
      "1484/1484 [==============================] - 1s 811us/step - loss: nan - accuracy: 0.0000e+00\n",
      "Epoch 21/50\n",
      "1484/1484 [==============================] - 1s 808us/step - loss: nan - accuracy: 0.0000e+00\n",
      "Epoch 22/50\n",
      "1484/1484 [==============================] - 1s 807us/step - loss: nan - accuracy: 0.0000e+00\n",
      "Epoch 23/50\n",
      "1484/1484 [==============================] - 1s 805us/step - loss: nan - accuracy: 0.0000e+00\n",
      "Epoch 24/50\n",
      "1484/1484 [==============================] - 1s 805us/step - loss: nan - accuracy: 0.0000e+00\n",
      "Epoch 25/50\n",
      "1484/1484 [==============================] - 1s 803us/step - loss: nan - accuracy: 0.0000e+00\n",
      "Epoch 26/50\n",
      "1484/1484 [==============================] - 1s 805us/step - loss: nan - accuracy: 0.0000e+00\n",
      "Epoch 27/50\n",
      "1484/1484 [==============================] - 1s 801us/step - loss: nan - accuracy: 0.0000e+00\n",
      "Epoch 28/50\n",
      "1484/1484 [==============================] - 1s 807us/step - loss: nan - accuracy: 0.0000e+00\n",
      "Epoch 29/50\n",
      "1484/1484 [==============================] - 1s 806us/step - loss: nan - accuracy: 0.0000e+00\n",
      "Epoch 30/50\n",
      "1484/1484 [==============================] - 1s 802us/step - loss: nan - accuracy: 0.0000e+00\n",
      "Epoch 31/50\n",
      "1484/1484 [==============================] - 1s 803us/step - loss: nan - accuracy: 0.0000e+00\n",
      "Epoch 32/50\n",
      "1484/1484 [==============================] - 1s 803us/step - loss: nan - accuracy: 0.0000e+00\n",
      "Epoch 33/50\n",
      "1484/1484 [==============================] - 1s 805us/step - loss: nan - accuracy: 0.0000e+00\n",
      "Epoch 34/50\n",
      "1484/1484 [==============================] - 1s 801us/step - loss: nan - accuracy: 0.0000e+00\n",
      "Epoch 35/50\n",
      "1484/1484 [==============================] - 1s 806us/step - loss: nan - accuracy: 0.0000e+00\n",
      "Epoch 36/50\n",
      "1484/1484 [==============================] - 1s 820us/step - loss: nan - accuracy: 0.0000e+00\n",
      "Epoch 37/50\n",
      "1484/1484 [==============================] - 1s 829us/step - loss: nan - accuracy: 0.0000e+00\n",
      "Epoch 38/50\n",
      "1484/1484 [==============================] - 1s 800us/step - loss: nan - accuracy: 0.0000e+00\n",
      "Epoch 39/50\n",
      "1484/1484 [==============================] - 1s 802us/step - loss: nan - accuracy: 0.0000e+00\n",
      "Epoch 40/50\n",
      "1484/1484 [==============================] - 1s 798us/step - loss: nan - accuracy: 0.0000e+00\n",
      "Epoch 41/50\n",
      "1484/1484 [==============================] - 1s 800us/step - loss: nan - accuracy: 0.0000e+00\n",
      "Epoch 42/50\n",
      "1484/1484 [==============================] - 1s 803us/step - loss: nan - accuracy: 0.0000e+00\n",
      "Epoch 43/50\n",
      "1484/1484 [==============================] - 1s 803us/step - loss: nan - accuracy: 0.0000e+00\n",
      "Epoch 44/50\n",
      "1484/1484 [==============================] - 1s 804us/step - loss: nan - accuracy: 0.0000e+00\n",
      "Epoch 45/50\n",
      "1484/1484 [==============================] - 1s 802us/step - loss: nan - accuracy: 0.0000e+00\n",
      "Epoch 46/50\n",
      "1484/1484 [==============================] - 1s 805us/step - loss: nan - accuracy: 0.0000e+00\n",
      "Epoch 47/50\n",
      "1484/1484 [==============================] - 1s 805us/step - loss: nan - accuracy: 0.0000e+00\n",
      "Epoch 48/50\n",
      "1484/1484 [==============================] - 1s 804us/step - loss: nan - accuracy: 0.0000e+00\n",
      "Epoch 49/50\n",
      "1484/1484 [==============================] - 1s 801us/step - loss: nan - accuracy: 0.0000e+00\n",
      "Epoch 50/50\n",
      "1484/1484 [==============================] - 1s 806us/step - loss: nan - accuracy: 0.0000e+00\n"
     ]
    },
    {
     "data": {
      "text/plain": [
       "<keras.callbacks.History at 0x2aa3ecaa4f0>"
      ]
     },
     "execution_count": 12,
     "metadata": {},
     "output_type": "execute_result"
    }
   ],
   "source": [
    "# Train the model\n",
    "model.fit(X_train, y_train, epochs=50, batch_size=32, verbose=1)"
   ]
  },
  {
   "cell_type": "code",
   "execution_count": 13,
   "metadata": {
    "colab": {
     "base_uri": "https://localhost:8080/"
    },
    "id": "RNbL23o7c1VY",
    "outputId": "38be6dad-376c-4614-de61-817d6ab97bdd"
   },
   "outputs": [
    {
     "name": "stdout",
     "output_type": "stream",
     "text": [
      "636/636 [==============================] - 0s 487us/step\n"
     ]
    }
   ],
   "source": [
    "# Evaluate the model on test data\n",
    "y_pred = model.predict(X_test)\n",
    "y_pred = np.argmax(y_pred, axis=1)\n",
    "y_test = np.argmax(y_test, axis=1)"
   ]
  },
  {
   "cell_type": "code",
   "execution_count": 14,
   "metadata": {
    "colab": {
     "base_uri": "https://localhost:8080/"
    },
    "id": "Ue6ojf_Wc7QS",
    "outputId": "95032937-942c-4382-caf7-c9fc19d264a5"
   },
   "outputs": [
    {
     "name": "stdout",
     "output_type": "stream",
     "text": [
      "[0 0 0 ... 0 0 0]\n"
     ]
    }
   ],
   "source": [
    "# Print predicted labels\n",
    "print(y_pred)"
   ]
  },
  {
   "cell_type": "code",
   "execution_count": 15,
   "metadata": {
    "colab": {
     "base_uri": "https://localhost:8080/"
    },
    "id": "F36KnJkoc94F",
    "outputId": "0b621630-fb66-4b8b-aaeb-2145ffeecf35"
   },
   "outputs": [
    {
     "name": "stdout",
     "output_type": "stream",
     "text": [
      "METRICS FOR THE MODEL\n",
      "Accuracy: 1.0\n",
      "Precision: 1.0\n",
      "F1-score: 1.0\n"
     ]
    }
   ],
   "source": [
    "# Calculate accuracy, precision, and F1-score metrics\n",
    "accuracy = accuracy_score(y_test, y_pred)\n",
    "precision = precision_score(y_test, y_pred, average='macro')\n",
    "f1 = f1_score(y_test, y_pred, average='macro')\n",
    "print('METRICS FOR THE MODEL')\n",
    "print('Accuracy:', accuracy)\n",
    "print('Precision:', precision)\n",
    "print('F1-score:', f1)"
   ]
  },
  {
   "cell_type": "code",
   "execution_count": null,
   "metadata": {
    "id": "9sLHDXRkdHHB"
   },
   "outputs": [],
   "source": []
  },
  {
   "cell_type": "code",
   "execution_count": null,
   "metadata": {},
   "outputs": [],
   "source": []
  },
  {
   "cell_type": "code",
   "execution_count": null,
   "metadata": {},
   "outputs": [],
   "source": []
  }
 ],
 "metadata": {
  "colab": {
   "provenance": []
  },
  "kernelspec": {
   "display_name": "Python 3 (ipykernel)",
   "language": "python",
   "name": "python3"
  },
  "language_info": {
   "codemirror_mode": {
    "name": "ipython",
    "version": 3
   },
   "file_extension": ".py",
   "mimetype": "text/x-python",
   "name": "python",
   "nbconvert_exporter": "python",
   "pygments_lexer": "ipython3",
   "version": "3.9.13"
  }
 },
 "nbformat": 4,
 "nbformat_minor": 1
}
