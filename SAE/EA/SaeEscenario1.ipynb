{
 "cells": [
  {
   "cell_type": "code",
   "execution_count": 1,
   "metadata": {
    "id": "TmBeHSoX3z42"
   },
   "outputs": [],
   "source": [
    "import pandas as pd\n",
    "import numpy as np\n",
    "import matplotlib.pyplot as plt #Gives us Graphics\n",
    "from sklearn.model_selection import train_test_split\n",
    "from sklearn.metrics import classification_report\n",
    "import tensorflow as tf\n",
    "\n",
    "url = 'https://raw.githubusercontent.com/beespinosa1/Inter/main/Escenario2.csv'"
   ]
  },
  {
   "cell_type": "code",
   "execution_count": 2,
   "metadata": {
    "id": "qPlYJJVF5dQm"
   },
   "outputs": [],
   "source": [
    "df = pd.read_csv(url)\n",
    "df= pd.read_csv(url,low_memory=False)\n",
    "dataframe= pd.read_csv(url,low_memory=False)"
   ]
  },
  {
   "cell_type": "code",
   "execution_count": 3,
   "metadata": {
    "id": "E9kzKPET31P7"
   },
   "outputs": [],
   "source": [
    "# Normalise the data\n",
    "def dfNormalize(df):\n",
    "    for feature_name in df.columns:\n",
    "        df.loc[:,feature_name]= pd.to_numeric(df.loc[:,feature_name], errors='coerce').fillna(0)\n",
    "        max_value = df[feature_name].max()\n",
    "        min_value = df[feature_name].min()   \n",
    "        if (max_value - min_value) > 0:\n",
    "            df.loc[:,feature_name] = (df.loc[:,feature_name] - min_value) / (max_value - min_value)\n",
    "        else:\n",
    "            df.loc[:,feature_name] = (df.loc[:,feature_name]- min_value)    \n",
    "    return df"
   ]
  },
  {
   "cell_type": "code",
   "execution_count": 4,
   "metadata": {
    "colab": {
     "base_uri": "https://localhost:8080/"
    },
    "id": "95T2g78T4P7a",
    "outputId": "2c4cc1e0-7658-4022-d511-e02bb350b4cb",
    "scrolled": false
   },
   "outputs": [
    {
     "name": "stdout",
     "output_type": "stream",
     "text": [
      "        Source Port   Destination Port   Protocol   Flow Duration  \\\n",
      "count   3000.000000        3000.000000     3000.0    3.000000e+03   \n",
      "mean   48455.594667        3252.134667        6.0    4.295469e+05   \n",
      "std     8966.042102        9405.481170        0.0    1.147671e+06   \n",
      "min       80.000000          21.000000        6.0    1.700000e+01   \n",
      "25%    41833.000000          80.000000        6.0    7.964075e+04   \n",
      "50%    49577.000000         443.000000        6.0    2.068215e+05   \n",
      "75%    55923.000000         443.000000        6.0    2.168172e+05   \n",
      "max    61156.000000       65514.000000        6.0    9.904104e+06   \n",
      "\n",
      "        Flow Bytes/s   Flow Packets/s   Flow IAT Mean   Flow IAT Std  \\\n",
      "count         3000.0      3000.000000    3.000000e+03   3.000000e+03   \n",
      "mean             0.0       462.782031    3.140976e+05   1.198478e+05   \n",
      "std              0.0      5298.098971    7.503888e+05   6.030572e+05   \n",
      "min              0.0         0.201936    1.150000e+01   0.000000e+00   \n",
      "25%              0.0         9.257502    7.385200e+04   0.000000e+00   \n",
      "50%              0.0         9.718858    2.057215e+05   0.000000e+00   \n",
      "75%              0.0        25.869309    2.159358e+05   0.000000e+00   \n",
      "max              0.0    130434.782609    9.904104e+06   6.463810e+06   \n",
      "\n",
      "        Flow IAT Max   Flow IAT Min  ...   Bwd IAT Max   Bwd IAT Min  \\\n",
      "count   3.000000e+03   3.000000e+03  ...  3.000000e+03  3.000000e+03   \n",
      "mean    4.095519e+05   2.310774e+05  ...  2.919598e+04  2.915911e+04   \n",
      "std     1.081813e+06   6.310921e+05  ...  3.492949e+05  3.492922e+05   \n",
      "min     1.700000e+01   6.000000e+00  ...  0.000000e+00  0.000000e+00   \n",
      "25%     7.948975e+04   3.903075e+04  ...  0.000000e+00  0.000000e+00   \n",
      "50%     2.063105e+05   2.042005e+05  ...  0.000000e+00  0.000000e+00   \n",
      "75%     2.164758e+05   2.151430e+05  ...  0.000000e+00  0.000000e+00   \n",
      "max     9.904104e+06   9.904104e+06  ...  7.700059e+06  7.700059e+06   \n",
      "\n",
      "        Active Mean   Active Std    Active Max    Active Min     Idle Mean  \\\n",
      "count  3.000000e+03       3000.0  3.000000e+03  3.000000e+03  3.000000e+03   \n",
      "mean   4.001176e+03          0.0  4.001176e+03  4.001176e+03  8.000319e+03   \n",
      "std    1.095219e+05          0.0  1.095219e+05  1.095219e+05  2.189881e+05   \n",
      "min    0.000000e+00          0.0  0.000000e+00  0.000000e+00  0.000000e+00   \n",
      "25%    0.000000e+00          0.0  0.000000e+00  0.000000e+00  0.000000e+00   \n",
      "50%    0.000000e+00          0.0  0.000000e+00  0.000000e+00  0.000000e+00   \n",
      "75%    0.000000e+00          0.0  0.000000e+00  0.000000e+00  0.000000e+00   \n",
      "max    3.003355e+06          0.0  3.003355e+06  3.003355e+06  6.000554e+06   \n",
      "\n",
      "        Idle Std      Idle Max      Idle Min  \n",
      "count     3000.0  3.000000e+03  3.000000e+03  \n",
      "mean         0.0  8.000319e+03  8.000319e+03  \n",
      "std          0.0  2.189881e+05  2.189881e+05  \n",
      "min          0.0  0.000000e+00  0.000000e+00  \n",
      "25%          0.0  0.000000e+00  0.000000e+00  \n",
      "50%          0.0  0.000000e+00  0.000000e+00  \n",
      "75%          0.0  0.000000e+00  0.000000e+00  \n",
      "max          0.0  6.000554e+06  6.000554e+06  \n",
      "\n",
      "[8 rows x 26 columns]\n",
      "['Source IP', ' Source Port', ' Destination IP', ' Destination Port', ' Protocol', ' Flow Duration', ' Flow Bytes/s', ' Flow Packets/s', ' Flow IAT Mean', ' Flow IAT Std', ' Flow IAT Max', ' Flow IAT Min', 'Fwd IAT Mean', ' Fwd IAT Std', ' Fwd IAT Max', ' Fwd IAT Min', 'Bwd IAT Mean', ' Bwd IAT Std', ' Bwd IAT Max', ' Bwd IAT Min', 'Active Mean', ' Active Std', ' Active Max', ' Active Min', 'Idle Mean', ' Idle Std', ' Idle Max', ' Idle Min', 'label']\n"
     ]
    }
   ],
   "source": [
    "dataframe = dataframe.reindex(np.random.permutation(dataframe.index)).copy()\n",
    "print(dataframe.describe())\n",
    "print(list(dataframe))"
   ]
  },
  {
   "cell_type": "code",
   "execution_count": 5,
   "metadata": {
    "colab": {
     "base_uri": "https://localhost:8080/"
    },
    "id": "esxDgkq37KlJ",
    "outputId": "80dfeb36-4f11-420f-c85c-b54178012994"
   },
   "outputs": [],
   "source": [
    "keys = dataframe.keys()\n",
    "\n",
    "data_to_process = dataframe[keys[4:len(keys)-1]].copy()\n",
    "\n",
    "x_normalised=dfNormalize(data_to_process)"
   ]
  },
  {
   "cell_type": "code",
   "execution_count": 6,
   "metadata": {},
   "outputs": [
    {
     "data": {
      "text/plain": [
       "((2100, 24), (900, 24))"
      ]
     },
     "execution_count": 6,
     "metadata": {},
     "output_type": "execute_result"
    }
   ],
   "source": [
    "# get the train and test data\n",
    "y = dataframe['label']\n",
    "change_labels = lambda x: 1 if x == 'nonTOR' else 0\n",
    "y_normalised = dataframe['label'].apply(change_labels)\n",
    "\n",
    "x_train,x_test,y_train,y_test = train_test_split(x_normalised,\n",
    "                                                 y_normalised,\n",
    "                                                 test_size=0.3, # %test\n",
    "                                                 random_state=0)\n",
    "\n",
    "x_train.shape, x_test.shape"
   ]
  },
  {
   "cell_type": "code",
   "execution_count": 7,
   "metadata": {
    "id": "dsi0tAUn-lby"
   },
   "outputs": [],
   "source": [
    "# Define the SAE model\n",
    "input_dim = x_train.shape[1]\n",
    "hidden_dim1 = 64\n",
    "hidden_dim2 = 32\n",
    "\n",
    "input_layer = tf.keras.layers.Input(shape=(input_dim,))\n",
    "encoder1 = tf.keras.layers.Dense(hidden_dim1, activation=\"relu\")(input_layer)\n",
    "encoder2 = tf.keras.layers.Dense(hidden_dim2, activation=\"relu\")(encoder1)\n",
    "decoder1 = tf.keras.layers.Dense(hidden_dim1, activation=\"relu\")(encoder2)\n",
    "output_layer = tf.keras.layers.Dense(input_dim, activation=\"sigmoid\")(decoder1)\n",
    "\n",
    "sae = tf.keras.Model(inputs=input_layer, outputs=output_layer)"
   ]
  },
  {
   "cell_type": "code",
   "execution_count": 8,
   "metadata": {
    "id": "L4e7TMhZ_Ou9"
   },
   "outputs": [
    {
     "name": "stdout",
     "output_type": "stream",
     "text": [
      "Epoch 1/50\n",
      "66/66 [==============================] - 1s 3ms/step - loss: 0.1581 - val_loss: 0.0122\n",
      "Epoch 2/50\n",
      "66/66 [==============================] - 0s 1ms/step - loss: 0.0052 - val_loss: 0.0039\n",
      "Epoch 3/50\n",
      "66/66 [==============================] - 0s 1ms/step - loss: 0.0042 - val_loss: 0.0038\n",
      "Epoch 4/50\n",
      "66/66 [==============================] - 0s 2ms/step - loss: 0.0042 - val_loss: 0.0038\n",
      "Epoch 5/50\n",
      "66/66 [==============================] - 0s 1ms/step - loss: 0.0042 - val_loss: 0.0038\n",
      "Epoch 6/50\n",
      "66/66 [==============================] - 0s 1ms/step - loss: 0.0041 - val_loss: 0.0038\n",
      "Epoch 7/50\n",
      "66/66 [==============================] - 0s 1ms/step - loss: 0.0041 - val_loss: 0.0038\n",
      "Epoch 8/50\n",
      "66/66 [==============================] - 0s 1ms/step - loss: 0.0041 - val_loss: 0.0038\n",
      "Epoch 9/50\n",
      "66/66 [==============================] - 0s 1ms/step - loss: 0.0041 - val_loss: 0.0038\n",
      "Epoch 10/50\n",
      "66/66 [==============================] - 0s 1ms/step - loss: 0.0041 - val_loss: 0.0038\n",
      "Epoch 11/50\n",
      "66/66 [==============================] - 0s 1ms/step - loss: 0.0041 - val_loss: 0.0038\n",
      "Epoch 12/50\n",
      "66/66 [==============================] - 0s 1ms/step - loss: 0.0041 - val_loss: 0.0038\n",
      "Epoch 13/50\n",
      "66/66 [==============================] - 0s 1ms/step - loss: 0.0041 - val_loss: 0.0038\n",
      "Epoch 14/50\n",
      "66/66 [==============================] - 0s 1ms/step - loss: 0.0041 - val_loss: 0.0038\n",
      "Epoch 15/50\n",
      "66/66 [==============================] - 0s 1ms/step - loss: 0.0041 - val_loss: 0.0038\n",
      "Epoch 16/50\n",
      "66/66 [==============================] - 0s 1ms/step - loss: 0.0040 - val_loss: 0.0031\n",
      "Epoch 17/50\n",
      "66/66 [==============================] - 0s 1ms/step - loss: 0.0023 - val_loss: 0.0014\n",
      "Epoch 18/50\n",
      "66/66 [==============================] - 0s 1ms/step - loss: 0.0013 - val_loss: 0.0012\n",
      "Epoch 19/50\n",
      "66/66 [==============================] - 0s 1ms/step - loss: 9.5620e-04 - val_loss: 8.0720e-04\n",
      "Epoch 20/50\n",
      "66/66 [==============================] - 0s 1ms/step - loss: 7.2136e-04 - val_loss: 7.0264e-04\n",
      "Epoch 21/50\n",
      "66/66 [==============================] - 0s 1ms/step - loss: 6.2465e-04 - val_loss: 5.7363e-04\n",
      "Epoch 22/50\n",
      "66/66 [==============================] - 0s 1ms/step - loss: 5.6581e-04 - val_loss: 4.8726e-04\n",
      "Epoch 23/50\n",
      "66/66 [==============================] - 0s 1ms/step - loss: 5.2387e-04 - val_loss: 4.0534e-04\n",
      "Epoch 24/50\n",
      "66/66 [==============================] - 0s 1ms/step - loss: 4.8310e-04 - val_loss: 3.6825e-04\n",
      "Epoch 25/50\n",
      "66/66 [==============================] - 0s 1ms/step - loss: 4.6577e-04 - val_loss: 3.4354e-04\n",
      "Epoch 26/50\n",
      "66/66 [==============================] - 0s 1ms/step - loss: 4.4734e-04 - val_loss: 3.3195e-04\n",
      "Epoch 27/50\n",
      "66/66 [==============================] - 0s 1ms/step - loss: 4.3746e-04 - val_loss: 3.2733e-04\n",
      "Epoch 28/50\n",
      "66/66 [==============================] - 0s 1ms/step - loss: 4.2998e-04 - val_loss: 3.2337e-04\n",
      "Epoch 29/50\n",
      "66/66 [==============================] - 0s 1ms/step - loss: 4.2445e-04 - val_loss: 3.2180e-04\n",
      "Epoch 30/50\n",
      "66/66 [==============================] - 0s 1ms/step - loss: 4.2472e-04 - val_loss: 3.1893e-04\n",
      "Epoch 31/50\n",
      "66/66 [==============================] - 0s 1ms/step - loss: 4.1804e-04 - val_loss: 3.1314e-04\n",
      "Epoch 32/50\n",
      "66/66 [==============================] - 0s 1ms/step - loss: 4.2198e-04 - val_loss: 3.1237e-04\n",
      "Epoch 33/50\n",
      "66/66 [==============================] - 0s 1ms/step - loss: 4.1490e-04 - val_loss: 3.0913e-04\n",
      "Epoch 34/50\n",
      "66/66 [==============================] - 0s 1ms/step - loss: 4.3771e-04 - val_loss: 3.2785e-04\n",
      "Epoch 35/50\n",
      "66/66 [==============================] - 0s 1ms/step - loss: 4.1546e-04 - val_loss: 3.0752e-04\n",
      "Epoch 36/50\n",
      "66/66 [==============================] - 0s 1ms/step - loss: 4.1294e-04 - val_loss: 3.1665e-04\n",
      "Epoch 37/50\n",
      "66/66 [==============================] - 0s 1ms/step - loss: 4.1071e-04 - val_loss: 3.0601e-04\n",
      "Epoch 38/50\n",
      "66/66 [==============================] - 0s 1ms/step - loss: 4.1108e-04 - val_loss: 3.0854e-04\n",
      "Epoch 39/50\n",
      "66/66 [==============================] - 0s 1ms/step - loss: 4.0920e-04 - val_loss: 3.0289e-04\n",
      "Epoch 40/50\n",
      "66/66 [==============================] - 0s 1ms/step - loss: 4.0879e-04 - val_loss: 3.1005e-04\n",
      "Epoch 41/50\n",
      "66/66 [==============================] - 0s 1ms/step - loss: 4.0931e-04 - val_loss: 3.0090e-04\n",
      "Epoch 42/50\n",
      "66/66 [==============================] - 0s 1ms/step - loss: 4.1446e-04 - val_loss: 3.1009e-04\n",
      "Epoch 43/50\n",
      "66/66 [==============================] - 0s 1ms/step - loss: 4.1467e-04 - val_loss: 3.1705e-04\n",
      "Epoch 44/50\n",
      "66/66 [==============================] - 0s 1ms/step - loss: 4.1039e-04 - val_loss: 3.0230e-04\n",
      "Epoch 45/50\n",
      "66/66 [==============================] - 0s 1ms/step - loss: 4.0733e-04 - val_loss: 2.9945e-04\n",
      "Epoch 46/50\n",
      "66/66 [==============================] - 0s 1ms/step - loss: 4.0407e-04 - val_loss: 2.9880e-04\n",
      "Epoch 47/50\n",
      "66/66 [==============================] - 0s 1ms/step - loss: 4.0245e-04 - val_loss: 2.9953e-04\n",
      "Epoch 48/50\n",
      "66/66 [==============================] - 0s 1ms/step - loss: 4.0178e-04 - val_loss: 2.9981e-04\n",
      "Epoch 49/50\n",
      "66/66 [==============================] - 0s 1ms/step - loss: 4.0313e-04 - val_loss: 2.9702e-04\n",
      "Epoch 50/50\n",
      "66/66 [==============================] - 0s 1ms/step - loss: 4.0195e-04 - val_loss: 2.9637e-04\n"
     ]
    },
    {
     "data": {
      "text/plain": [
       "<keras.callbacks.History at 0x279a2deaa00>"
      ]
     },
     "execution_count": 8,
     "metadata": {},
     "output_type": "execute_result"
    }
   ],
   "source": [
    "# Compile and train the SAE model\n",
    "sae.compile(optimizer='adam', loss='mean_squared_error')\n",
    "sae.fit(x_train, x_train, epochs=50, batch_size=32, validation_data=(x_test, x_test))"
   ]
  },
  {
   "cell_type": "code",
   "execution_count": 9,
   "metadata": {
    "colab": {
     "base_uri": "https://localhost:8080/"
    },
    "id": "XSPIi55X_PzJ",
    "outputId": "6a3a8a71-b517-4c0c-c29a-f10b1e8adf4e"
   },
   "outputs": [
    {
     "name": "stdout",
     "output_type": "stream",
     "text": [
      "66/66 [==============================] - 0s 508us/step\n",
      "29/29 [==============================] - 0s 536us/step\n"
     ]
    }
   ],
   "source": [
    "# Use the encoder layers to get the reduced features\n",
    "encoder = tf.keras.Model(inputs=input_layer, outputs=encoder2)\n",
    "x_train_encoded = encoder.predict(x_train)\n",
    "x_test_encoded = encoder.predict(x_test)"
   ]
  },
  {
   "cell_type": "code",
   "execution_count": 10,
   "metadata": {
    "colab": {
     "base_uri": "https://localhost:8080/"
    },
    "id": "OdvnbL74AB7Z",
    "outputId": "aff98f2f-8d3e-4fc7-b47b-093bd929db36"
   },
   "outputs": [],
   "source": [
    "# Train a logistic regression classifier using the reduced features\n",
    "from sklearn.linear_model import LogisticRegression\n",
    "clf = LogisticRegression(random_state=0, max_iter=10000)\n",
    "clf.fit(x_train_encoded, y_train)\n",
    "y_pred = clf.predict(x_test_encoded)\n"
   ]
  },
  {
   "cell_type": "code",
   "execution_count": 13,
   "metadata": {},
   "outputs": [
    {
     "name": "stdout",
     "output_type": "stream",
     "text": [
      "[1 1 1 1 1 1 1 1 1 1 1 1 1 1 1 1 1 1 1 1 1 1 1 1 1 1 1 1 1 1 1 1 1 1 1 1 1\n",
      " 1 1 1 1 1 1 1 1 1 1 1 1 1 1 1 1 1 1 1 1 1 1 1 1 1 1 1 1 1 1 1 1 1 1 1 1 1\n",
      " 1 1 1 1 1 1 1 1 1 1 1 1 1 1 1 1 1 1 1 1 1 1 1 1 1 1 1 1 1 1 1 1 1 1 1 1 1\n",
      " 1 1 1 1 1 1 1 1 1 1 1 1 1 1 1 1 1 1 1 1 1 1 1 1 1 1 1 1 1 1 1 1 1 1 1 1 1\n",
      " 1 1 1 1 1 1 1 1 1 1 1 1 1 1 1 1 1 1 1 1 1 1 1 1 1 1 1 1 1 1 1 1 1 1 1 1 1\n",
      " 1 1 1 1 1 1 1 1 1 1 1 1 1 1 1 1 1 1 1 1 1 1 1 1 1 1 1 1 1 1 1 1 1 1 1 1 1\n",
      " 1 1 1 1 1 1 1 1 1 1 1 1 1 1 1 1 1 1 1 1 1 1 1 1 1 1 1 1 1 1 1 1 1 1 1 1 1\n",
      " 1 1 1 1 1 1 1 1 1 1 1 1 1 1 1 1 1 1 1 1 1 1 1 1 1 1 1 1 1 1 1 1 1 1 1 1 1\n",
      " 1 1 1 1 1 1 1 1 1 1 1 1 1 1 1 1 1 1 1 1 1 1 1 1 1 1 1 1 1 1 1 1 1 1 1 1 1\n",
      " 1 1 1 1 1 1 1 1 1 1 1 1 1 1 1 1 1 1 1 1 1 1 1 1 1 1 1 1 1 1 1 1 1 1 1 1 1\n",
      " 1 1 1 1 1 1 1 1 1 1 1 1 1 1 1 1 1 1 1 1 1 1 1 1 1 1 1 1 1 1 1 1 1 1 1 1 1\n",
      " 1 1 1 1 1 1 1 1 1 1 1 1 1 1 1 1 1 1 1 1 1 1 1 1 1 1 1 1 1 1 1 1 1 1 1 1 1\n",
      " 1 1 1 1 1 1 1 1 1 1 1 1 1 1 1 1 1 1 1 1 1 1 1 1 1 1 1 1 1 1 1 1 1 1 1 1 1\n",
      " 1 1 1 1 1 1 1 1 1 1 1 1 1 1 1 1 1 1 1 1 1 1 1 1 1 1 1 1 1 1 1 1 1 1 1 1 1\n",
      " 1 1 1 1 1 1 1 1 1 1 1 1 1 1 1 1 1 1 1 1 1 1 1 1 1 1 1 1 1 1 1 1 1 1 1 1 1\n",
      " 1 1 1 1 1 1 1 1 1 1 1 1 1 1 1 1 1 1 1 1 1 1 1 1 1 1 1 1 1 1 1 1 1 1 1 1 1\n",
      " 1 1 1 1 1 1 1 1 1 1 1 1 1 1 1 1 0 1 1 1 1 1 1 1 1 1 1 1 1 1 1 1 1 1 1 1 1\n",
      " 1 1 1 1 1 1 1 1 1 1 1 1 1 1 1 1 1 1 1 1 1 1 1 1 1 1 1 1 1 1 1 1 1 1 1 1 1\n",
      " 1 1 1 1 1 1 1 1 1 1 1 1 1 1 1 1 1 1 1 1 1 1 1 1 1 1 1 1 1 1 1 1 1 1 1 1 1\n",
      " 1 1 1 1 1 1 1 1 1 1 1 1 1 1 1 1 1 1 1 1 1 1 1 1 1 1 1 1 1 1 1 1 1 1 1 1 1\n",
      " 1 1 1 1 1 1 1 1 1 1 1 1 1 1 1 1 1 1 1 1 1 1 1 1 1 1 1 1 1 1 1 1 1 1 1 1 1\n",
      " 1 1 1 1 1 1 1 1 1 1 1 1 1 1 1 1 1 1 1 1 1 1 1 1 1 1 1 1 1 1 1 1 1 1 1 1 1\n",
      " 1 1 1 1 1 1 1 1 1 1 1 1 1 1 1 1 1 1 1 1 1 1 1 1 1 1 1 1 1 1 1 1 1 1 1 1 1\n",
      " 1 1 1 1 1 1 1 1 1 1 0 1 1 1 1 1 1 1 1 1 1 1 1 1 1 1 1 1 1 1 1 1 1 1 1 1 1\n",
      " 1 1 1 1 1 1 1 1 1 1 1 1]\n",
      "METRICS FOR THE MODEL\n",
      "Accuracy: 0.9966666666666667\n",
      "Precision: 0.4994432071269488\n",
      "F1-score: 0.49916527545909845\n"
     ]
    }
   ],
   "source": [
    "from sklearn.model_selection import train_test_split\n",
    "from sklearn.naive_bayes import MultinomialNB\n",
    "from sklearn.metrics import classification_report, accuracy_score, precision_score, f1_score\n",
    "\n",
    "clf = MultinomialNB()\n",
    "clf.fit(x_train, y_train)\n",
    "y_pred = clf.predict(x_test)\n",
    "\n",
    "# Print predicted labels\n",
    "print(y_pred)\n",
    "#Metrics\n",
    "accuracy = accuracy_score(y_test, y_pred)\n",
    "precision = precision_score(y_test, y_pred, average='macro', zero_division=1)\n",
    "f1 = f1_score(y_test, y_pred, average='macro')\n",
    "print('METRICS FOR THE MODEL')\n",
    "print('Accuracy:', accuracy)\n",
    "print('Precision:', precision)\n",
    "print('F1-score:', f1)"
   ]
  },
  {
   "cell_type": "code",
   "execution_count": 14,
   "metadata": {},
   "outputs": [
    {
     "data": {
      "image/png": "[encoded data removed]",
      "text/plain": [
       "<Figure size 640x480 with 1 Axes>"
      ]
     },
     "metadata": {},
     "output_type": "display_data"
    }
   ],
   "source": [
    "counts = y.value_counts()\n",
    "plt.bar(counts.index, counts.values)\n",
    "plt.title(\"Distribución de las clases\")\n",
    "plt.show()"
   ]
  },
  {
   "cell_type": "code",
   "execution_count": null,
   "metadata": {},
   "outputs": [],
   "source": []
  }
 ],
 "metadata": {
  "accelerator": "GPU",
  "colab": {
   "provenance": []
  },
  "gpuClass": "standard",
  "kernelspec": {
   "display_name": "Python 3 (ipykernel)",
   "language": "python",
   "name": "python3"
  },
  "language_info": {
   "codemirror_mode": {
    "name": "ipython",
    "version": 3
   },
   "file_extension": ".py",
   "mimetype": "text/x-python",
   "name": "python",
   "nbconvert_exporter": "python",
   "pygments_lexer": "ipython3",
   "version": "3.9.13"
  }
 },
 "nbformat": 4,
 "nbformat_minor": 1
}
