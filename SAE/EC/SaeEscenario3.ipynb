{
 "cells": [
  {
   "cell_type": "code",
   "execution_count": 1,
   "metadata": {
    "id": "uwpDYN3pocE4"
   },
   "outputs": [],
   "source": [
    "import pandas as pd\n",
    "import numpy as np\n",
    "import matplotlib.pyplot as plt\n",
    "from sklearn.model_selection import train_test_split\n",
    "from sklearn.metrics import accuracy_score, precision_score, f1_score\n",
    "from keras.models import Model\n",
    "from keras.layers import Input, Dense\n",
    "from sklearn.naive_bayes import MultinomialNB"
   ]
  },
  {
   "cell_type": "code",
   "execution_count": 2,
   "metadata": {
    "id": "uV-Jjd1XqeZI"
   },
   "outputs": [],
   "source": [
    "url = 'https://raw.githubusercontent.com/Cmgarces2/InterDataSets/main/EscenarioC/UNSW-NB15_4.csv'\n",
    "df = pd.read_csv(url)\n",
    "\n",
    "names = ['srcip', 'sport', 'dstip', 'dsport', 'proto', 'state', 'dur',\n",
    "        'sbytes', 'dbytes', 'sttl', 'dttl', 'sloss', 'dloss', 'service',\n",
    "        'Sload', 'Dload', 'Spkts', 'Dpkts', 'swin', 'dwin', 'stcpb',\n",
    "        'dtcpb', 'smeansz', 'dmeansz', 'trans_depth', 'res_bdy_len',\n",
    "        'Sjit', 'Djit', 'Stime', 'Ltime', 'Sintpkt', 'Dintpkt', 'tcprtt',\n",
    "        'synack', 'ackdat', 'is_sm_ips_ports', 'ct_state_ttl',\n",
    "        'ct_flw_http_mthd', 'is_ftp_login', 'ct_ftp_cmd', 'ct_srv_src',\n",
    "        'ct_srv_dst', 'ct_dst_ltm', 'ct_src_ltm', 'ct_src_dport_ltm',\n",
    "        'ct_dst_sport_ltm', 'ct_dst_src_ltm', 'attack_cat', 'Label']\n",
    "\n",
    "df = pd.read_csv(url, names=names, low_memory=False)"
   ]
  },
  {
   "cell_type": "code",
   "execution_count": 3,
   "metadata": {
    "id": "rzxzjRKkqg4_"
   },
   "outputs": [],
   "source": [
    "def dfNormalize(df):\n",
    "    for feature_name in df.columns:\n",
    "        df.loc[:, feature_name] = pd.to_numeric(df.loc[:, feature_name], errors='coerce').fillna(0)\n",
    "        max_value = df[feature_name].max()\n",
    "        min_value = df[feature_name].min()   \n",
    "        if (max_value - min_value) > 0:\n",
    "            df.loc[:, feature_name] = (df.loc[:, feature_name] - min_value) / (max_value - min_value)\n",
    "        else:\n",
    "            df.loc[:, feature_name] = (df.loc[:, feature_name]- min_value)    \n",
    "    return df\n",
    "\n",
    "dataframe = pd.read_csv(url, names=names, low_memory=False)\n",
    "dataframe = dataframe.reindex(np.random.permutation(dataframe.index)).copy()"
   ]
  },
  {
   "cell_type": "code",
   "execution_count": 4,
   "metadata": {
    "id": "afm3VxI0qkFA"
   },
   "outputs": [],
   "source": [
    "keys = dataframe.keys()\n",
    "data_to_process = dataframe[keys[4:len(keys)-1]].copy()\n",
    "x_normalized = dfNormalize(data_to_process)"
   ]
  },
  {
   "cell_type": "code",
   "execution_count": 5,
   "metadata": {
    "id": "dNffcb6VqnWq"
   },
   "outputs": [],
   "source": [
    "# Split the data into training and testing sets\n",
    "x_train, x_test, y_train, y_test = train_test_split(x_normalized, df['Label'], test_size=0.3, random_state=0)"
   ]
  },
  {
   "cell_type": "code",
   "execution_count": 6,
   "metadata": {
    "colab": {
     "base_uri": "https://localhost:8080/"
    },
    "id": "jpmUOZR1qqzO",
    "outputId": "b1d6b2bd-2599-47ce-b7c9-dfa82927d9e7"
   },
   "outputs": [
    {
     "name": "stdout",
     "output_type": "stream",
     "text": [
      "Epoch 1/10\n",
      "9626/9626 [==============================] - 8s 794us/step - loss: 0.1200 - val_loss: 0.1115\n",
      "Epoch 2/10\n",
      "9626/9626 [==============================] - 7s 779us/step - loss: 0.1113 - val_loss: 0.1111\n",
      "Epoch 3/10\n",
      "9626/9626 [==============================] - 8s 781us/step - loss: 0.1110 - val_loss: 0.1109\n",
      "Epoch 4/10\n",
      "9626/9626 [==============================] - 8s 783us/step - loss: 0.1109 - val_loss: 0.1108\n",
      "Epoch 5/10\n",
      "9626/9626 [==============================] - 8s 791us/step - loss: 0.1108 - val_loss: 0.1108\n",
      "Epoch 6/10\n",
      "9626/9626 [==============================] - 8s 790us/step - loss: 0.1108 - val_loss: 0.1107\n",
      "Epoch 7/10\n",
      "9626/9626 [==============================] - 8s 790us/step - loss: 0.1107 - val_loss: 0.1107\n",
      "Epoch 8/10\n",
      "9626/9626 [==============================] - 8s 790us/step - loss: 0.1106 - val_loss: 0.1106\n",
      "Epoch 9/10\n",
      "9626/9626 [==============================] - 8s 785us/step - loss: 0.1106 - val_loss: 0.1106\n",
      "Epoch 10/10\n",
      "9626/9626 [==============================] - 8s 788us/step - loss: 0.1106 - val_loss: 0.1106\n"
     ]
    },
    {
     "data": {
      "text/plain": [
       "<keras.callbacks.History at 0x1554ab80190>"
      ]
     },
     "execution_count": 6,
     "metadata": {},
     "output_type": "execute_result"
    }
   ],
   "source": [
    "# Define and train the SAE model\n",
    "input_dim = x_train.shape[1]\n",
    "encoding_dim = 50 # Number of neurons in the encoding layer\n",
    "input_layer = Input(shape=(input_dim,))\n",
    "encoder = Dense(encoding_dim, activation=\"relu\")(input_layer)\n",
    "decoder = Dense(input_dim, activation=\"sigmoid\")(encoder)\n",
    "autoencoder = Model(inputs=input_layer, outputs=decoder)\n",
    "autoencoder.compile(optimizer='adam', loss='binary_crossentropy')\n",
    "autoencoder.fit(x_train, x_train, epochs=10, batch_size=32, shuffle=True, validation_data=(x_test, x_test))"
   ]
  },
  {
   "cell_type": "code",
   "execution_count": 7,
   "metadata": {
    "colab": {
     "base_uri": "https://localhost:8080/"
    },
    "id": "JqXo2F0irOpc",
    "outputId": "7feefb56-9824-42dc-e9b6-84a9811687bc"
   },
   "outputs": [
    {
     "name": "stdout",
     "output_type": "stream",
     "text": [
      "9626/9626 [==============================] - 4s 448us/step\n",
      "4126/4126 [==============================] - 2s 450us/step\n"
     ]
    }
   ],
   "source": [
    "# Use the trained model to encode the data\n",
    "encoder_model = Model(inputs=input_layer, outputs=encoder)\n",
    "encoded_data_train = encoder_model.predict(x_train)\n",
    "encoded_data_test = encoder_model.predict(x_test)"
   ]
  },
  {
   "cell_type": "code",
   "execution_count": 8,
   "metadata": {
    "colab": {
     "base_uri": "https://localhost:8080/"
    },
    "id": "GmUT_cb5rUSZ",
    "outputId": "eb162557-910c-43a5-a2b9-316d85b48f5f"
   },
   "outputs": [
    {
     "data": {
      "text/plain": [
       "KMeans(n_clusters=2, random_state=0)"
      ]
     },
     "execution_count": 8,
     "metadata": {},
     "output_type": "execute_result"
    }
   ],
   "source": [
    "# Perform clustering on the encoded data\n",
    "from sklearn.cluster import KMeans\n",
    "kmeans = KMeans(n_clusters=2, random_state=0)\n",
    "kmeans.fit(encoded_data_train)"
   ]
  },
  {
   "cell_type": "code",
   "execution_count": 9,
   "metadata": {
    "id": "AtBcKp5crXVY"
   },
   "outputs": [],
   "source": [
    "# Predict the clusters on the encoded test data\n",
    "predicted_clusters = kmeans.predict(encoded_data_test)"
   ]
  },
  {
   "cell_type": "code",
   "execution_count": 10,
   "metadata": {
    "colab": {
     "base_uri": "https://localhost:8080/"
    },
    "id": "-HQfPALjrZw_",
    "outputId": "4365aadc-ecf1-49f3-966b-ad56d5fab2db"
   },
   "outputs": [
    {
     "name": "stdout",
     "output_type": "stream",
     "text": [
      "[0 0 0 ... 0 0 0]\n",
      "METRICS FOR THE MODEL\n",
      "Accuracy: 0.797029102973927\n",
      "Precision: 0.3985145514869635\n",
      "F1-score: 0.4435259850020866\n"
     ]
    },
    {
     "name": "stderr",
     "output_type": "stream",
     "text": [
      "D:\\Users\\Equipo-PC\\anaconda3\\lib\\site-packages\\sklearn\\metrics\\_classification.py:1318: UndefinedMetricWarning: Precision is ill-defined and being set to 0.0 in labels with no predicted samples. Use `zero_division` parameter to control this behavior.\n",
      "  _warn_prf(average, modifier, msg_start, len(result))\n"
     ]
    }
   ],
   "source": [
    "from sklearn.model_selection import train_test_split\n",
    "from sklearn.naive_bayes import MultinomialNB\n",
    "from sklearn.metrics import classification_report, accuracy_score, precision_score, f1_score\n",
    "\n",
    "clf = MultinomialNB()\n",
    "clf.fit(x_train, y_train)\n",
    "y_pred = clf.predict(x_test)\n",
    "\n",
    "# Predict the labels using the Naive Bayes classifier\n",
    "y_pred = clf.predict(x_test)\n",
    "precision = precision_score(y_test, y_pred, average='macro', zero_division=1)\n",
    "\n",
    "# Print predicted labels\n",
    "print(y_pred)\n",
    "#Metrics\n",
    "accuracy = accuracy_score(y_test, y_pred)\n",
    "precision = precision_score(y_test, y_pred, average='macro')\n",
    "f1 = f1_score(y_test, y_pred, average='macro')\n",
    "print('METRICS FOR THE MODEL')\n",
    "print('Accuracy:', accuracy)\n",
    "print('Precision:', precision)\n",
    "print('F1-score:', f1)"
   ]
  },
  {
   "cell_type": "code",
   "execution_count": 11,
   "metadata": {},
   "outputs": [
    {
     "data": {
      "image/png": "[encoded data removed]",
      "text/plain": [
       "<Figure size 640x480 with 1 Axes>"
      ]
     },
     "metadata": {},
     "output_type": "display_data"
    }
   ],
   "source": [
    "# Define las variables de las métricas\n",
    "accuracy = accuracy_score(y_test, y_pred)\n",
    "precision = precision_score(y_test, y_pred, average='macro', zero_division=1)\n",
    "f1 = f1_score(y_test, y_pred, average='macro')\n",
    "\n",
    "# Crea un gráfico de barras de las métricas\n",
    "metric_names = ['Accuracy', 'Precision', 'F1-score']\n",
    "metric_values = [accuracy, precision, f1]\n",
    "plt.bar(metric_names, metric_values)\n",
    "plt.title('Metrics for the model')\n",
    "plt.show()"
   ]
  },
  {
   "cell_type": "code",
   "execution_count": 12,
   "metadata": {},
   "outputs": [
    {
     "data": {
      "image/png": "[encoded data removed]",
      "text/plain": [
       "<Figure size 480x480 with 2 Axes>"
      ]
     },
     "metadata": {},
     "output_type": "display_data"
    }
   ],
   "source": [
    "from sklearn.metrics import confusion_matrix\n",
    "\n",
    "# Crea una matriz de confusión\n",
    "conf_mat = confusion_matrix(y_test, y_pred)\n",
    "\n",
    "# Crea un gráfico de matriz de confusión\n",
    "plt.matshow(conf_mat, cmap=plt.cm.gray)\n",
    "plt.xticks(range(len(conf_mat)), list(set(y_test)), rotation=90)\n",
    "plt.yticks(range(len(conf_mat)), list(set(y_test)))\n",
    "plt.colorbar()\n",
    "plt.xlabel('Predicted label')\n",
    "plt.ylabel('True label')\n",
    "plt.show()"
   ]
  },
  {
   "cell_type": "code",
   "execution_count": null,
   "metadata": {},
   "outputs": [],
   "source": []
  }
 ],
 "metadata": {
  "colab": {
   "provenance": []
  },
  "kernelspec": {
   "display_name": "Python 3 (ipykernel)",
   "language": "python",
   "name": "python3"
  },
  "language_info": {
   "codemirror_mode": {
    "name": "ipython",
    "version": 3
   },
   "file_extension": ".py",
   "mimetype": "text/x-python",
   "name": "python",
   "nbconvert_exporter": "python",
   "pygments_lexer": "ipython3",
   "version": "3.9.13"
  }
 },
 "nbformat": 4,
 "nbformat_minor": 1
}
