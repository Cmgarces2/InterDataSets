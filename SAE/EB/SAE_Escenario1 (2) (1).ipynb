{
 "cells": [
  {
   "cell_type": "code",
   "execution_count": 1,
   "metadata": {
    "id": "93NlBMvSl8AP"
   },
   "outputs": [],
   "source": [
    "import pandas as pd\n",
    "import numpy as np\n",
    "import matplotlib.pyplot as plt\n",
    "import tensorflow as tf\n",
    "from sklearn.preprocessing import MinMaxScaler\n",
    "from sklearn.model_selection import train_test_split\n",
    "from sklearn.metrics import accuracy_score, precision_score, f1_score"
   ]
  },
  {
   "cell_type": "code",
   "execution_count": 2,
   "metadata": {
    "id": "oLb-mTg4mIP8"
   },
   "outputs": [],
   "source": [
    "# Load data\n",
    "url = 'https://raw.githubusercontent.com/beespinosa1/Inter/main/Escenario1.csv'\n",
    "df = pd.read_csv(url)\n",
    "df = pd.read_csv(url, low_memory=False)"
   ]
  },
  {
   "cell_type": "code",
   "execution_count": 3,
   "metadata": {
    "id": "Ata2jODfmKbW"
   },
   "outputs": [],
   "source": [
    "# Normalize the data\n",
    "scaler = MinMaxScaler()\n",
    "data_to_process = df.iloc[:, 4:-1]\n",
    "x_normalized = pd.DataFrame(scaler.fit_transform(data_to_process), columns=data_to_process.columns)"
   ]
  },
  {
   "cell_type": "code",
   "execution_count": 4,
   "metadata": {
    "id": "XOLy8-z9mM7o"
   },
   "outputs": [],
   "source": [
    "# Split into train and test sets\n",
    "y = df['label']\n",
    "label_map = {'AUDIO': 0, 'BROWSING': 1, 'CHAT': 2, 'FILE-TRANSFER': 3, 'MAIL': 4, 'P2P': 5, 'VIDEO': 6, 'VOIP': 7}\n",
    "y_normalized = y.apply(lambda x: label_map[x] if x in label_map else -1)\n",
    "x_train, x_test, y_train, y_test = train_test_split(x_normalized, y_normalized, test_size=0.3, random_state=0)"
   ]
  },
  {
   "cell_type": "code",
   "execution_count": 6,
   "metadata": {},
   "outputs": [],
   "source": [
    "from tensorflow.keras.layers import Input, Dense\n",
    "from tensorflow.keras.models import Model\n"
   ]
  },
  {
   "cell_type": "code",
   "execution_count": 7,
   "metadata": {
    "id": "XfhZK5camRlN"
   },
   "outputs": [],
   "source": [
    "# Define the Stacked Autoencoder (SAE) model\n",
    "input_layer = Input(shape=(x_train.shape[1],))\n",
    "encoder = Dense(32, activation='relu')(input_layer)\n",
    "encoder = Dense(16, activation='relu')(encoder)\n",
    "decoder = Dense(32, activation='relu')(encoder)\n",
    "decoder = Dense(x_train.shape[1], activation='sigmoid')(decoder)\n",
    "\n",
    "sae = Model(inputs=input_layer, outputs=decoder)"
   ]
  },
  {
   "cell_type": "code",
   "execution_count": 8,
   "metadata": {
    "colab": {
     "base_uri": "https://localhost:8080/"
    },
    "id": "CTGOgNPgmTke",
    "outputId": "5ada5dfa-161f-4da3-a0b6-3e8f810f811a"
   },
   "outputs": [
    {
     "name": "stdout",
     "output_type": "stream",
     "text": [
      "Epoch 1/50\n",
      "132/132 [==============================] - 1s 3ms/step - loss: 0.4201 - val_loss: 0.1793\n",
      "Epoch 2/50\n",
      "132/132 [==============================] - 0s 947us/step - loss: 0.1579 - val_loss: 0.1456\n",
      "Epoch 3/50\n",
      "132/132 [==============================] - 0s 954us/step - loss: 0.1391 - val_loss: 0.1350\n",
      "Epoch 4/50\n",
      "132/132 [==============================] - 0s 939us/step - loss: 0.1308 - val_loss: 0.1290\n",
      "Epoch 5/50\n",
      "132/132 [==============================] - 0s 939us/step - loss: 0.1253 - val_loss: 0.1244\n",
      "Epoch 6/50\n",
      "132/132 [==============================] - 0s 932us/step - loss: 0.1211 - val_loss: 0.1215\n",
      "Epoch 7/50\n",
      "132/132 [==============================] - 0s 924us/step - loss: 0.1189 - val_loss: 0.1196\n",
      "Epoch 8/50\n",
      "132/132 [==============================] - 0s 939us/step - loss: 0.1177 - val_loss: 0.1186\n",
      "Epoch 9/50\n",
      "132/132 [==============================] - 0s 939us/step - loss: 0.1168 - val_loss: 0.1174\n",
      "Epoch 10/50\n",
      "132/132 [==============================] - 0s 954us/step - loss: 0.1161 - val_loss: 0.1165\n",
      "Epoch 11/50\n",
      "132/132 [==============================] - 0s 947us/step - loss: 0.1154 - val_loss: 0.1158\n",
      "Epoch 12/50\n",
      "132/132 [==============================] - 0s 954us/step - loss: 0.1149 - val_loss: 0.1153\n",
      "Epoch 13/50\n",
      "132/132 [==============================] - 0s 932us/step - loss: 0.1146 - val_loss: 0.1150\n",
      "Epoch 14/50\n",
      "132/132 [==============================] - 0s 924us/step - loss: 0.1144 - val_loss: 0.1146\n",
      "Epoch 15/50\n",
      "132/132 [==============================] - 0s 939us/step - loss: 0.1142 - val_loss: 0.1145\n",
      "Epoch 16/50\n",
      "132/132 [==============================] - 0s 932us/step - loss: 0.1140 - val_loss: 0.1143\n",
      "Epoch 17/50\n",
      "132/132 [==============================] - 0s 954us/step - loss: 0.1139 - val_loss: 0.1142\n",
      "Epoch 18/50\n",
      "132/132 [==============================] - 0s 916us/step - loss: 0.1138 - val_loss: 0.1141\n",
      "Epoch 19/50\n",
      "132/132 [==============================] - 0s 924us/step - loss: 0.1137 - val_loss: 0.1140\n",
      "Epoch 20/50\n",
      "132/132 [==============================] - 0s 932us/step - loss: 0.1136 - val_loss: 0.1138\n",
      "Epoch 21/50\n",
      "132/132 [==============================] - 0s 947us/step - loss: 0.1135 - val_loss: 0.1137\n",
      "Epoch 22/50\n",
      "132/132 [==============================] - 0s 962us/step - loss: 0.1134 - val_loss: 0.1136\n",
      "Epoch 23/50\n",
      "132/132 [==============================] - 0s 932us/step - loss: 0.1134 - val_loss: 0.1136\n",
      "Epoch 24/50\n",
      "132/132 [==============================] - 0s 924us/step - loss: 0.1133 - val_loss: 0.1136\n",
      "Epoch 25/50\n",
      "132/132 [==============================] - 0s 939us/step - loss: 0.1133 - val_loss: 0.1134\n",
      "Epoch 26/50\n",
      "132/132 [==============================] - 0s 924us/step - loss: 0.1132 - val_loss: 0.1135\n",
      "Epoch 27/50\n",
      "132/132 [==============================] - 0s 932us/step - loss: 0.1131 - val_loss: 0.1133\n",
      "Epoch 28/50\n",
      "132/132 [==============================] - 0s 939us/step - loss: 0.1131 - val_loss: 0.1132\n",
      "Epoch 29/50\n",
      "132/132 [==============================] - 0s 962us/step - loss: 0.1130 - val_loss: 0.1133\n",
      "Epoch 30/50\n",
      "132/132 [==============================] - 0s 970us/step - loss: 0.1130 - val_loss: 0.1133\n",
      "Epoch 31/50\n",
      "132/132 [==============================] - 0s 947us/step - loss: 0.1130 - val_loss: 0.1131\n",
      "Epoch 32/50\n",
      "132/132 [==============================] - 0s 954us/step - loss: 0.1129 - val_loss: 0.1131\n",
      "Epoch 33/50\n",
      "132/132 [==============================] - 0s 939us/step - loss: 0.1129 - val_loss: 0.1130\n",
      "Epoch 34/50\n",
      "132/132 [==============================] - 0s 932us/step - loss: 0.1129 - val_loss: 0.1130\n",
      "Epoch 35/50\n",
      "132/132 [==============================] - 0s 932us/step - loss: 0.1128 - val_loss: 0.1129\n",
      "Epoch 36/50\n",
      "132/132 [==============================] - 0s 932us/step - loss: 0.1128 - val_loss: 0.1129\n",
      "Epoch 37/50\n",
      "132/132 [==============================] - 0s 924us/step - loss: 0.1128 - val_loss: 0.1128\n",
      "Epoch 38/50\n",
      "132/132 [==============================] - 0s 924us/step - loss: 0.1127 - val_loss: 0.1128\n",
      "Epoch 39/50\n",
      "132/132 [==============================] - 0s 924us/step - loss: 0.1127 - val_loss: 0.1127\n",
      "Epoch 40/50\n",
      "132/132 [==============================] - 0s 932us/step - loss: 0.1126 - val_loss: 0.1127\n",
      "Epoch 41/50\n",
      "132/132 [==============================] - 0s 939us/step - loss: 0.1126 - val_loss: 0.1127\n",
      "Epoch 42/50\n",
      "132/132 [==============================] - 0s 939us/step - loss: 0.1126 - val_loss: 0.1125\n",
      "Epoch 43/50\n",
      "132/132 [==============================] - 0s 932us/step - loss: 0.1126 - val_loss: 0.1125\n",
      "Epoch 44/50\n",
      "132/132 [==============================] - 0s 939us/step - loss: 0.1126 - val_loss: 0.1125\n",
      "Epoch 45/50\n",
      "132/132 [==============================] - 0s 962us/step - loss: 0.1125 - val_loss: 0.1124\n",
      "Epoch 46/50\n",
      "132/132 [==============================] - 0s 939us/step - loss: 0.1125 - val_loss: 0.1125\n",
      "Epoch 47/50\n",
      "132/132 [==============================] - 0s 932us/step - loss: 0.1125 - val_loss: 0.1124\n",
      "Epoch 48/50\n",
      "132/132 [==============================] - 0s 932us/step - loss: 0.1124 - val_loss: 0.1124\n",
      "Epoch 49/50\n",
      "132/132 [==============================] - 0s 939us/step - loss: 0.1124 - val_loss: 0.1124\n",
      "Epoch 50/50\n",
      "132/132 [==============================] - 0s 970us/step - loss: 0.1124 - val_loss: 0.1123\n"
     ]
    }
   ],
   "source": [
    "# Train the SAE model\n",
    "sae.compile(optimizer='adam', loss='binary_crossentropy')\n",
    "history = sae.fit(x_train, x_train, epochs=50, batch_size=16, validation_data=(x_test, x_test))"
   ]
  },
  {
   "cell_type": "code",
   "execution_count": 9,
   "metadata": {
    "id": "W39q2LqimZI9"
   },
   "outputs": [],
   "source": [
    "# Extract the encoder part of the SAE model as a new model\n",
    "encoder_model = Model(inputs=input_layer, outputs=encoder)"
   ]
  },
  {
   "cell_type": "code",
   "execution_count": 10,
   "metadata": {
    "colab": {
     "base_uri": "https://localhost:8080/"
    },
    "id": "Dk3h2oI_ma1q",
    "outputId": "87dc6a51-cfad-4b56-ad0e-cd1e564bbe7b"
   },
   "outputs": [
    {
     "name": "stdout",
     "output_type": "stream",
     "text": [
      "66/66 [==============================] - 0s 477us/step\n",
      "29/29 [==============================] - 0s 500us/step\n"
     ]
    }
   ],
   "source": [
    "# Encode the train and test sets using the encoder model\n",
    "x_train_encoded = encoder_model.predict(x_train)\n",
    "x_test_encoded = encoder_model.predict(x_test)"
   ]
  },
  {
   "cell_type": "code",
   "execution_count": 11,
   "metadata": {
    "id": "1L9HR0B9md2Y"
   },
   "outputs": [],
   "source": [
    "# Train and test a logistic regression classifier using the encoded data\n",
    "from sklearn.linear_model import LogisticRegression"
   ]
  },
  {
   "cell_type": "code",
   "execution_count": 12,
   "metadata": {
    "id": "gw9hk1A4mgpW"
   },
   "outputs": [],
   "source": [
    "clf = LogisticRegression(random_state=0, max_iter=1000)\n",
    "clf.fit(x_train_encoded, y_train)\n",
    "y_pred = clf.predict(x_test_encoded)"
   ]
  },
  {
   "cell_type": "code",
   "execution_count": 13,
   "metadata": {
    "colab": {
     "base_uri": "https://localhost:8080/"
    },
    "id": "CGLGYqDvmizy",
    "outputId": "704ccf22-c490-4ebf-b36e-0774ef3d43d1"
   },
   "outputs": [
    {
     "name": "stdout",
     "output_type": "stream",
     "text": [
      "[1 1 1 1 1 1 1 1 1 1 1 1 1 1 1 0 1 1 1 1 1 1 1 1 1 1 1 1 1 1 1 1 1 1 1 1 1\n",
      " 1 1 1 1 1 1 0 1 1 1 1 1 1 1 1 1 1 1 1 1 1 1 1 1 1 1 1 1 1 1 1 1 1 1 1 1 1\n",
      " 1 1 1 1 1 1 1 0 1 1 1 1 1 1 1 1 1 1 1 1 1 1 1 1 1 1 1 1 1 1 1 1 1 1 1 1 1\n",
      " 1 1 1 1 1 1 1 1 1 1 1 1 1 1 1 1 1 1 1 1 1 1 1 1 1 1 1 1 1 1 1 1 1 1 1 1 1\n",
      " 1 1 1 1 1 1 1 1 1 1 0 1 1 1 1 1 1 1 1 1 1 1 1 1 1 1 1 1 1 1 1 1 1 1 1 1 1\n",
      " 1 1 1 1 1 1 1 1 1 1 1 1 1 1 1 1 1 1 1 1 1 1 1 1 1 1 1 1 1 1 1 1 1 1 1 1 1\n",
      " 1 1 1 1 1 1 1 1 1 0 1 1 1 1 1 1 1 1 1 1 1 1 1 1 1 1 1 1 1 1 1 1 1 1 1 1 1\n",
      " 1 1 1 0 1 1 1 1 1 1 1 1 1 1 1 1 1 1 1 1 1 1 1 1 1 0 1 1 1 1 1 1 1 1 1 1 1\n",
      " 1 1 1 1 1 0 1 1 1 1 1 0 1 1 0 1 1 1 1 0 1 1 1 1 1 1 1 1 1 1 0 1 1 1 1 1 1\n",
      " 1 0 1 1 1 1 1 1 1 1 1 1 1 1 1 1 0 1 1 1 0 1 1 1 1 1 0 1 0 1 1 1 1 1 1 0 1\n",
      " 1 1 1 1 1 1 1 1 1 1 1 1 1 1 1 1 0 1 1 1 1 1 0 1 1 1 1 1 1 1 1 1 0 1 1 1 0\n",
      " 1 0 1 1 1 1 1 1 1 1 1 1 1 1 1 1 1 1 1 1 1 1 1 1 1 1 1 1 1 1 1 1 1 1 1 1 1\n",
      " 1 1 1 1 1 1 1 1 1 0 1 1 1 0 1 1 1 1 1 1 1 1 1 1 1 1 1 1 1 1 1 1 1 1 1 1 1\n",
      " 1 1 1 1 1 1 1 1 1 1 1 1 1 1 1 1 1 1 1 1 1 1 1 1 1 1 1 1 1 1 0 1 1 1 1 1 1\n",
      " 1 1 1 1 1 1 1 1 1 1 1 1 1 1 1 1 1 1 1 1 1 1 1 1 1 1 1 1 1 1 1 1 1 1 1 1 1\n",
      " 1 1 1 1 1 1 0 1 1 1 1 1 1 1 1 1 1 1 0 1 1 1 1 1 1 1 1 1 1 1 1 1 1 1 1 1 0\n",
      " 1 1 1 1 1 1 1 1 1 1 1 1 1 1 1 1 1 1 0 1 0 1 1 1 1 1 1 1 1 1 0 1 1 1 1 1 1\n",
      " 1 1 1 1 0 1 1 1 1 1 1 1 1 1 1 1 1 0 1 1 1 1 1 1 1 1 1 1 1 1 1 1 1 1 1 1 1\n",
      " 1 1 1 1 1 1 1 1 1 1 1 1 1 1 1 1 1 1 1 1 1 1 1 1 1 1 1 1 1 1 1 1 1 1 1 1 0\n",
      " 1 1 1 1 0 1 1 1 0 1 1 1 1 1 1 1 1 1 1 1 1 1 1 1 1 1 1 1 1 1 1 1 1 1 1 1 1\n",
      " 1 1 0 1 1 1 1 1 1 1 1 1 1 1 1 1 1 1 1 1 1 1 1 1 1 1 1 1 1 1 1 1 1 1 1 1 1\n",
      " 1 1 1 1 1 1 1 1 1 1 1 1 1 1 1 1 1 1 1 1 1 1 1 1 1 1 1 1 1 1 1 1 1 1 1 1 1\n",
      " 1 1 1 1 1 1 1 1 1 1 1 1 1 1 1 1 1 1 1 1 1 1 1 1 1 1 1 1 1 1 1 1 1 1 1 1 1\n",
      " 1 1 1 1 0 1 1 1 1 1 1 1 1 1 1 1 1 1 1 1 1 1 1 1 1 1 1 1 1 1 1 1 1 1 1 1 1\n",
      " 1 1 1 1 1 1 1 1 1 1 1 1]\n",
      "METRICS FOR THE MODEL\n",
      "Accuracy: 0.5544444444444444\n",
      "Precision: 0.31624676136871255\n",
      "F1-score: 0.2282467914753326\n"
     ]
    },
    {
     "name": "stderr",
     "output_type": "stream",
     "text": [
      "D:\\Users\\Equipo-PC\\anaconda3\\lib\\site-packages\\sklearn\\metrics\\_classification.py:1318: UndefinedMetricWarning: Precision is ill-defined and being set to 0.0 in labels with no predicted samples. Use `zero_division` parameter to control this behavior.\n",
      "  _warn_prf(average, modifier, msg_start, len(result))\n"
     ]
    }
   ],
   "source": [
    "from sklearn.model_selection import train_test_split\n",
    "from sklearn.naive_bayes import MultinomialNB\n",
    "from sklearn.metrics import classification_report, accuracy_score, precision_score, f1_score\n",
    "\n",
    "clf = MultinomialNB()\n",
    "clf.fit(x_train, y_train)\n",
    "y_pred = clf.predict(x_test)\n",
    "\n",
    "# Print predicted labels\n",
    "print(y_pred)\n",
    "#Metrics\n",
    "accuracy = accuracy_score(y_test, y_pred)\n",
    "precision = precision_score(y_test, y_pred, average='macro')\n",
    "f1 = f1_score(y_test, y_pred, average='macro')\n",
    "print('METRICS FOR THE MODEL')\n",
    "print('Accuracy:', accuracy)\n",
    "print('Precision:', precision)\n",
    "print('F1-score:', f1)"
   ]
  },
  {
   "cell_type": "code",
   "execution_count": null,
   "metadata": {},
   "outputs": [],
   "source": []
  }
 ],
 "metadata": {
  "colab": {
   "provenance": []
  },
  "kernelspec": {
   "display_name": "Python 3 (ipykernel)",
   "language": "python",
   "name": "python3"
  },
  "language_info": {
   "codemirror_mode": {
    "name": "ipython",
    "version": 3
   },
   "file_extension": ".py",
   "mimetype": "text/x-python",
   "name": "python",
   "nbconvert_exporter": "python",
   "pygments_lexer": "ipython3",
   "version": "3.9.13"
  }
 },
 "nbformat": 4,
 "nbformat_minor": 1
}
